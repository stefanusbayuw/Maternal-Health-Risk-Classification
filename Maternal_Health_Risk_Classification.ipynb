{
  "nbformat": 4,
  "nbformat_minor": 0,
  "metadata": {
    "colab": {
      "provenance": [],
      "collapsed_sections": [
        "c_HwzYC8DoMY",
        "OBkKucx4CmTd",
        "FfqTrpwe9ViU",
        "nMtYoJa0aK95",
        "PFBXEgowcyaD",
        "tzrMpoZ3dVCB",
        "5wELnKM4vYR9",
        "yxPwbYBFXcxc"
      ],
      "toc_visible": true
    },
    "kernelspec": {
      "name": "python3",
      "display_name": "Python 3"
    },
    "language_info": {
      "name": "python"
    }
  },
  "cells": [
    {
      "cell_type": "markdown",
      "source": [
        "#PERKENALAN"
      ],
      "metadata": {
        "id": "rK9XIWW_e7AJ"
      }
    },
    {
      "cell_type": "markdown",
      "source": [
        "> Memiliki buah hati atau anak atau keturunan pasti merupakan kebahagiaan bagi seorang ayah dan ibu. Dalam hal memiliki keturunan, peran ibu sangat penting dalam masa kehamilan. Ibu yang sehat juga memiliki janin yang sehat.\n",
        "\n",
        "> Pada negara berkembang terutama keluarga yang tinggal di daerah pedesaan dengan kondisi ekonomi menegah kebawah kurang memiliki informasi dan kesadaran terhadap kesehatan pada ibu hamil. Hal tersebut menyebabkan banyaknya kematian pada ibu hamil.\n",
        "\n",
        "> Pengecekan terhadap kesehatan ibu hamil wajib dilakukan secara berkala untuk melihat kesehatan ibu dan janin yang dikandungnya guna mengurangi risiko terjadinya kematian pada ibu hamil. PBB atau Persatuan Bangsa Bangsa juga memiliki target untuk meningkatkan kesehatan ibu hamil dan mengurangi risiko terjadinya kematian ibu dan anak pada tahun 2030. \n",
        "\n",
        "> Dari sebuah rumah sakit meminta untuk dibuatkan sistem untuk pengklasifikasian level risiko terhadap kesehatan ibu hamil agar memudahkan proses observasi dan penentuan level risiko kesehatan sebelum dilakuakn tindakan oleh dokter obgyn. \n",
        "\n",
        "> Saya Stefanus Bayu Waskito dari FTDS Remote 0185 memiliki data mengenai kehamilan yang dirilis pada tahun 2020 yang saya ambil dari UCI Dataset berdasarkan penelitian dari Marzia Ahmed. Dari data yang saya miliki saya ingin melakukan prediksi risiko kesehatan pada ibu hamil dapat membantu dalam menentukan langkah-langkah pencegahan atau penanganan yang tepat untuk mengurangi risiko komplikasi kesehatan pada ibu hamil dan mngurangi risiko kematian pada ibu hamil.\n",
        "\n",
        ">"
      ],
      "metadata": {
        "id": "2VIKYD9Xe_kv"
      }
    },
    {
      "cell_type": "markdown",
      "source": [
        "# IMPORT LIBRARY"
      ],
      "metadata": {
        "id": "c_HwzYC8DoMY"
      }
    },
    {
      "cell_type": "code",
      "execution_count": 1,
      "metadata": {
        "id": "voSSE56569My"
      },
      "outputs": [],
      "source": [
        "# Import library\n",
        "\n",
        "import pandas as pd\n",
        "import numpy as np\n",
        "import seaborn as sns\n",
        "import matplotlib.pyplot as plt\n",
        "\n",
        "from sklearn.preprocessing import LabelEncoder\n",
        "from sklearn.model_selection import train_test_split\n",
        "from sklearn.preprocessing import MinMaxScaler\n",
        "\n",
        "from sklearn.pipeline import Pipeline\n",
        "from sklearn.ensemble import RandomForestClassifier\n",
        "from sklearn.linear_model import LogisticRegression\n",
        "from sklearn.svm import SVC\n",
        "from sklearn.tree import DecisionTreeClassifier\n",
        "from sklearn.naive_bayes import GaussianNB\n",
        "from sklearn.neighbors import KNeighborsClassifier\n",
        "from sklearn.ensemble import VotingClassifier\n",
        "\n",
        "from sklearn.model_selection import GridSearchCV\n",
        "\n",
        "from sklearn.metrics import roc_auc_score\n",
        "from sklearn import metrics\n",
        "from sklearn.metrics import classification_report\n",
        "from sklearn.metrics import accuracy_score\n",
        "from sklearn.metrics import precision_score\n",
        "from sklearn.metrics import confusion_matrix\n",
        "\n",
        "from sklearn.metrics import mean_absolute_error, mean_squared_error,r2_score\n",
        "\n",
        "import pickle\n",
        "import joblib"
      ]
    },
    {
      "cell_type": "code",
      "source": [
        "import sklearn\n",
        "sklearn.__version__"
      ],
      "metadata": {
        "colab": {
          "base_uri": "https://localhost:8080/",
          "height": 35
        },
        "id": "FDYYrrJfVnXi",
        "outputId": "f960c5d2-7e02-4506-d383-31e4e2d8f460"
      },
      "execution_count": 2,
      "outputs": [
        {
          "output_type": "execute_result",
          "data": {
            "text/plain": [
              "'1.2.2'"
            ],
            "application/vnd.google.colaboratory.intrinsic+json": {
              "type": "string"
            }
          },
          "metadata": {},
          "execution_count": 2
        }
      ]
    },
    {
      "cell_type": "code",
      "source": [
        "# Import data\n",
        "\n",
        "data = pd.read_csv('https://raw.githubusercontent.com/stefanusbayuw/tesgit/main/Maternal%20Health%20Risk%20Data%20Set.csv')"
      ],
      "metadata": {
        "id": "LzUiSG6P7bf5"
      },
      "execution_count": 3,
      "outputs": []
    },
    {
      "cell_type": "markdown",
      "source": [
        "> Data yang saya dapatkan dari UCI Dataset saya unggah ke github saya kemudian saya panggil untuk di read sebagai dataframe yang saya gunakan pada project ini."
      ],
      "metadata": {
        "id": "2xFv3TlyERRA"
      }
    },
    {
      "cell_type": "code",
      "source": [
        "# Head data\n",
        "\n",
        "data.head()"
      ],
      "metadata": {
        "colab": {
          "base_uri": "https://localhost:8080/",
          "height": 206
        },
        "id": "mKmr_avt7fpX",
        "outputId": "8a6b9dd1-86ad-4597-eff0-6520f91ce3c5"
      },
      "execution_count": 4,
      "outputs": [
        {
          "output_type": "execute_result",
          "data": {
            "text/plain": [
              "   Age  SystolicBP  DiastolicBP    BS  BodyTemp  HeartRate  RiskLevel\n",
              "0   25         130           80  15.0      98.0         86  high risk\n",
              "1   35         140           90  13.0      98.0         70  high risk\n",
              "2   29          90           70   8.0     100.0         80  high risk\n",
              "3   30         140           85   7.0      98.0         70  high risk\n",
              "4   35         120           60   6.1      98.0         76   low risk"
            ],
            "text/html": [
              "\n",
              "  <div id=\"df-f496da3e-d666-48c9-aa17-16e27d0467a7\">\n",
              "    <div class=\"colab-df-container\">\n",
              "      <div>\n",
              "<style scoped>\n",
              "    .dataframe tbody tr th:only-of-type {\n",
              "        vertical-align: middle;\n",
              "    }\n",
              "\n",
              "    .dataframe tbody tr th {\n",
              "        vertical-align: top;\n",
              "    }\n",
              "\n",
              "    .dataframe thead th {\n",
              "        text-align: right;\n",
              "    }\n",
              "</style>\n",
              "<table border=\"1\" class=\"dataframe\">\n",
              "  <thead>\n",
              "    <tr style=\"text-align: right;\">\n",
              "      <th></th>\n",
              "      <th>Age</th>\n",
              "      <th>SystolicBP</th>\n",
              "      <th>DiastolicBP</th>\n",
              "      <th>BS</th>\n",
              "      <th>BodyTemp</th>\n",
              "      <th>HeartRate</th>\n",
              "      <th>RiskLevel</th>\n",
              "    </tr>\n",
              "  </thead>\n",
              "  <tbody>\n",
              "    <tr>\n",
              "      <th>0</th>\n",
              "      <td>25</td>\n",
              "      <td>130</td>\n",
              "      <td>80</td>\n",
              "      <td>15.0</td>\n",
              "      <td>98.0</td>\n",
              "      <td>86</td>\n",
              "      <td>high risk</td>\n",
              "    </tr>\n",
              "    <tr>\n",
              "      <th>1</th>\n",
              "      <td>35</td>\n",
              "      <td>140</td>\n",
              "      <td>90</td>\n",
              "      <td>13.0</td>\n",
              "      <td>98.0</td>\n",
              "      <td>70</td>\n",
              "      <td>high risk</td>\n",
              "    </tr>\n",
              "    <tr>\n",
              "      <th>2</th>\n",
              "      <td>29</td>\n",
              "      <td>90</td>\n",
              "      <td>70</td>\n",
              "      <td>8.0</td>\n",
              "      <td>100.0</td>\n",
              "      <td>80</td>\n",
              "      <td>high risk</td>\n",
              "    </tr>\n",
              "    <tr>\n",
              "      <th>3</th>\n",
              "      <td>30</td>\n",
              "      <td>140</td>\n",
              "      <td>85</td>\n",
              "      <td>7.0</td>\n",
              "      <td>98.0</td>\n",
              "      <td>70</td>\n",
              "      <td>high risk</td>\n",
              "    </tr>\n",
              "    <tr>\n",
              "      <th>4</th>\n",
              "      <td>35</td>\n",
              "      <td>120</td>\n",
              "      <td>60</td>\n",
              "      <td>6.1</td>\n",
              "      <td>98.0</td>\n",
              "      <td>76</td>\n",
              "      <td>low risk</td>\n",
              "    </tr>\n",
              "  </tbody>\n",
              "</table>\n",
              "</div>\n",
              "      <button class=\"colab-df-convert\" onclick=\"convertToInteractive('df-f496da3e-d666-48c9-aa17-16e27d0467a7')\"\n",
              "              title=\"Convert this dataframe to an interactive table.\"\n",
              "              style=\"display:none;\">\n",
              "        \n",
              "  <svg xmlns=\"http://www.w3.org/2000/svg\" height=\"24px\"viewBox=\"0 0 24 24\"\n",
              "       width=\"24px\">\n",
              "    <path d=\"M0 0h24v24H0V0z\" fill=\"none\"/>\n",
              "    <path d=\"M18.56 5.44l.94 2.06.94-2.06 2.06-.94-2.06-.94-.94-2.06-.94 2.06-2.06.94zm-11 1L8.5 8.5l.94-2.06 2.06-.94-2.06-.94L8.5 2.5l-.94 2.06-2.06.94zm10 10l.94 2.06.94-2.06 2.06-.94-2.06-.94-.94-2.06-.94 2.06-2.06.94z\"/><path d=\"M17.41 7.96l-1.37-1.37c-.4-.4-.92-.59-1.43-.59-.52 0-1.04.2-1.43.59L10.3 9.45l-7.72 7.72c-.78.78-.78 2.05 0 2.83L4 21.41c.39.39.9.59 1.41.59.51 0 1.02-.2 1.41-.59l7.78-7.78 2.81-2.81c.8-.78.8-2.07 0-2.86zM5.41 20L4 18.59l7.72-7.72 1.47 1.35L5.41 20z\"/>\n",
              "  </svg>\n",
              "      </button>\n",
              "      \n",
              "  <style>\n",
              "    .colab-df-container {\n",
              "      display:flex;\n",
              "      flex-wrap:wrap;\n",
              "      gap: 12px;\n",
              "    }\n",
              "\n",
              "    .colab-df-convert {\n",
              "      background-color: #E8F0FE;\n",
              "      border: none;\n",
              "      border-radius: 50%;\n",
              "      cursor: pointer;\n",
              "      display: none;\n",
              "      fill: #1967D2;\n",
              "      height: 32px;\n",
              "      padding: 0 0 0 0;\n",
              "      width: 32px;\n",
              "    }\n",
              "\n",
              "    .colab-df-convert:hover {\n",
              "      background-color: #E2EBFA;\n",
              "      box-shadow: 0px 1px 2px rgba(60, 64, 67, 0.3), 0px 1px 3px 1px rgba(60, 64, 67, 0.15);\n",
              "      fill: #174EA6;\n",
              "    }\n",
              "\n",
              "    [theme=dark] .colab-df-convert {\n",
              "      background-color: #3B4455;\n",
              "      fill: #D2E3FC;\n",
              "    }\n",
              "\n",
              "    [theme=dark] .colab-df-convert:hover {\n",
              "      background-color: #434B5C;\n",
              "      box-shadow: 0px 1px 3px 1px rgba(0, 0, 0, 0.15);\n",
              "      filter: drop-shadow(0px 1px 2px rgba(0, 0, 0, 0.3));\n",
              "      fill: #FFFFFF;\n",
              "    }\n",
              "  </style>\n",
              "\n",
              "      <script>\n",
              "        const buttonEl =\n",
              "          document.querySelector('#df-f496da3e-d666-48c9-aa17-16e27d0467a7 button.colab-df-convert');\n",
              "        buttonEl.style.display =\n",
              "          google.colab.kernel.accessAllowed ? 'block' : 'none';\n",
              "\n",
              "        async function convertToInteractive(key) {\n",
              "          const element = document.querySelector('#df-f496da3e-d666-48c9-aa17-16e27d0467a7');\n",
              "          const dataTable =\n",
              "            await google.colab.kernel.invokeFunction('convertToInteractive',\n",
              "                                                     [key], {});\n",
              "          if (!dataTable) return;\n",
              "\n",
              "          const docLinkHtml = 'Like what you see? Visit the ' +\n",
              "            '<a target=\"_blank\" href=https://colab.research.google.com/notebooks/data_table.ipynb>data table notebook</a>'\n",
              "            + ' to learn more about interactive tables.';\n",
              "          element.innerHTML = '';\n",
              "          dataTable['output_type'] = 'display_data';\n",
              "          await google.colab.output.renderOutput(dataTable, element);\n",
              "          const docLink = document.createElement('div');\n",
              "          docLink.innerHTML = docLinkHtml;\n",
              "          element.appendChild(docLink);\n",
              "        }\n",
              "      </script>\n",
              "    </div>\n",
              "  </div>\n",
              "  "
            ]
          },
          "metadata": {},
          "execution_count": 4
        }
      ]
    },
    {
      "cell_type": "code",
      "source": [
        "# Tail data\n",
        "\n",
        "data.tail()"
      ],
      "metadata": {
        "colab": {
          "base_uri": "https://localhost:8080/",
          "height": 206
        },
        "id": "PvqSdSOm7o2m",
        "outputId": "2e366d46-caa4-4696-d76c-17d6ce88b70e"
      },
      "execution_count": 5,
      "outputs": [
        {
          "output_type": "execute_result",
          "data": {
            "text/plain": [
              "      Age  SystolicBP  DiastolicBP    BS  BodyTemp  HeartRate  RiskLevel\n",
              "1009   22         120           60  15.0      98.0         80  high risk\n",
              "1010   55         120           90  18.0      98.0         60  high risk\n",
              "1011   35          85           60  19.0      98.0         86  high risk\n",
              "1012   43         120           90  18.0      98.0         70  high risk\n",
              "1013   32         120           65   6.0     101.0         76   mid risk"
            ],
            "text/html": [
              "\n",
              "  <div id=\"df-8ffc13b9-97e1-4006-a645-249696f87c1b\">\n",
              "    <div class=\"colab-df-container\">\n",
              "      <div>\n",
              "<style scoped>\n",
              "    .dataframe tbody tr th:only-of-type {\n",
              "        vertical-align: middle;\n",
              "    }\n",
              "\n",
              "    .dataframe tbody tr th {\n",
              "        vertical-align: top;\n",
              "    }\n",
              "\n",
              "    .dataframe thead th {\n",
              "        text-align: right;\n",
              "    }\n",
              "</style>\n",
              "<table border=\"1\" class=\"dataframe\">\n",
              "  <thead>\n",
              "    <tr style=\"text-align: right;\">\n",
              "      <th></th>\n",
              "      <th>Age</th>\n",
              "      <th>SystolicBP</th>\n",
              "      <th>DiastolicBP</th>\n",
              "      <th>BS</th>\n",
              "      <th>BodyTemp</th>\n",
              "      <th>HeartRate</th>\n",
              "      <th>RiskLevel</th>\n",
              "    </tr>\n",
              "  </thead>\n",
              "  <tbody>\n",
              "    <tr>\n",
              "      <th>1009</th>\n",
              "      <td>22</td>\n",
              "      <td>120</td>\n",
              "      <td>60</td>\n",
              "      <td>15.0</td>\n",
              "      <td>98.0</td>\n",
              "      <td>80</td>\n",
              "      <td>high risk</td>\n",
              "    </tr>\n",
              "    <tr>\n",
              "      <th>1010</th>\n",
              "      <td>55</td>\n",
              "      <td>120</td>\n",
              "      <td>90</td>\n",
              "      <td>18.0</td>\n",
              "      <td>98.0</td>\n",
              "      <td>60</td>\n",
              "      <td>high risk</td>\n",
              "    </tr>\n",
              "    <tr>\n",
              "      <th>1011</th>\n",
              "      <td>35</td>\n",
              "      <td>85</td>\n",
              "      <td>60</td>\n",
              "      <td>19.0</td>\n",
              "      <td>98.0</td>\n",
              "      <td>86</td>\n",
              "      <td>high risk</td>\n",
              "    </tr>\n",
              "    <tr>\n",
              "      <th>1012</th>\n",
              "      <td>43</td>\n",
              "      <td>120</td>\n",
              "      <td>90</td>\n",
              "      <td>18.0</td>\n",
              "      <td>98.0</td>\n",
              "      <td>70</td>\n",
              "      <td>high risk</td>\n",
              "    </tr>\n",
              "    <tr>\n",
              "      <th>1013</th>\n",
              "      <td>32</td>\n",
              "      <td>120</td>\n",
              "      <td>65</td>\n",
              "      <td>6.0</td>\n",
              "      <td>101.0</td>\n",
              "      <td>76</td>\n",
              "      <td>mid risk</td>\n",
              "    </tr>\n",
              "  </tbody>\n",
              "</table>\n",
              "</div>\n",
              "      <button class=\"colab-df-convert\" onclick=\"convertToInteractive('df-8ffc13b9-97e1-4006-a645-249696f87c1b')\"\n",
              "              title=\"Convert this dataframe to an interactive table.\"\n",
              "              style=\"display:none;\">\n",
              "        \n",
              "  <svg xmlns=\"http://www.w3.org/2000/svg\" height=\"24px\"viewBox=\"0 0 24 24\"\n",
              "       width=\"24px\">\n",
              "    <path d=\"M0 0h24v24H0V0z\" fill=\"none\"/>\n",
              "    <path d=\"M18.56 5.44l.94 2.06.94-2.06 2.06-.94-2.06-.94-.94-2.06-.94 2.06-2.06.94zm-11 1L8.5 8.5l.94-2.06 2.06-.94-2.06-.94L8.5 2.5l-.94 2.06-2.06.94zm10 10l.94 2.06.94-2.06 2.06-.94-2.06-.94-.94-2.06-.94 2.06-2.06.94z\"/><path d=\"M17.41 7.96l-1.37-1.37c-.4-.4-.92-.59-1.43-.59-.52 0-1.04.2-1.43.59L10.3 9.45l-7.72 7.72c-.78.78-.78 2.05 0 2.83L4 21.41c.39.39.9.59 1.41.59.51 0 1.02-.2 1.41-.59l7.78-7.78 2.81-2.81c.8-.78.8-2.07 0-2.86zM5.41 20L4 18.59l7.72-7.72 1.47 1.35L5.41 20z\"/>\n",
              "  </svg>\n",
              "      </button>\n",
              "      \n",
              "  <style>\n",
              "    .colab-df-container {\n",
              "      display:flex;\n",
              "      flex-wrap:wrap;\n",
              "      gap: 12px;\n",
              "    }\n",
              "\n",
              "    .colab-df-convert {\n",
              "      background-color: #E8F0FE;\n",
              "      border: none;\n",
              "      border-radius: 50%;\n",
              "      cursor: pointer;\n",
              "      display: none;\n",
              "      fill: #1967D2;\n",
              "      height: 32px;\n",
              "      padding: 0 0 0 0;\n",
              "      width: 32px;\n",
              "    }\n",
              "\n",
              "    .colab-df-convert:hover {\n",
              "      background-color: #E2EBFA;\n",
              "      box-shadow: 0px 1px 2px rgba(60, 64, 67, 0.3), 0px 1px 3px 1px rgba(60, 64, 67, 0.15);\n",
              "      fill: #174EA6;\n",
              "    }\n",
              "\n",
              "    [theme=dark] .colab-df-convert {\n",
              "      background-color: #3B4455;\n",
              "      fill: #D2E3FC;\n",
              "    }\n",
              "\n",
              "    [theme=dark] .colab-df-convert:hover {\n",
              "      background-color: #434B5C;\n",
              "      box-shadow: 0px 1px 3px 1px rgba(0, 0, 0, 0.15);\n",
              "      filter: drop-shadow(0px 1px 2px rgba(0, 0, 0, 0.3));\n",
              "      fill: #FFFFFF;\n",
              "    }\n",
              "  </style>\n",
              "\n",
              "      <script>\n",
              "        const buttonEl =\n",
              "          document.querySelector('#df-8ffc13b9-97e1-4006-a645-249696f87c1b button.colab-df-convert');\n",
              "        buttonEl.style.display =\n",
              "          google.colab.kernel.accessAllowed ? 'block' : 'none';\n",
              "\n",
              "        async function convertToInteractive(key) {\n",
              "          const element = document.querySelector('#df-8ffc13b9-97e1-4006-a645-249696f87c1b');\n",
              "          const dataTable =\n",
              "            await google.colab.kernel.invokeFunction('convertToInteractive',\n",
              "                                                     [key], {});\n",
              "          if (!dataTable) return;\n",
              "\n",
              "          const docLinkHtml = 'Like what you see? Visit the ' +\n",
              "            '<a target=\"_blank\" href=https://colab.research.google.com/notebooks/data_table.ipynb>data table notebook</a>'\n",
              "            + ' to learn more about interactive tables.';\n",
              "          element.innerHTML = '';\n",
              "          dataTable['output_type'] = 'display_data';\n",
              "          await google.colab.output.renderOutput(dataTable, element);\n",
              "          const docLink = document.createElement('div');\n",
              "          docLink.innerHTML = docLinkHtml;\n",
              "          element.appendChild(docLink);\n",
              "        }\n",
              "      </script>\n",
              "    </div>\n",
              "  </div>\n",
              "  "
            ]
          },
          "metadata": {},
          "execution_count": 5
        }
      ]
    },
    {
      "cell_type": "code",
      "source": [
        "data.shape"
      ],
      "metadata": {
        "colab": {
          "base_uri": "https://localhost:8080/"
        },
        "id": "JbeAT4-s7sp8",
        "outputId": "c4aef94c-87a1-49ad-bb77-2ba5858f1803"
      },
      "execution_count": 6,
      "outputs": [
        {
          "output_type": "execute_result",
          "data": {
            "text/plain": [
              "(1014, 7)"
            ]
          },
          "metadata": {},
          "execution_count": 6
        }
      ]
    },
    {
      "cell_type": "markdown",
      "source": [
        "> Data yang dimiliki terdiri dari 1014 baris data dan terdiri dari 7 fitur data."
      ],
      "metadata": {
        "id": "UlAhrsV_7zNP"
      }
    },
    {
      "cell_type": "code",
      "source": [
        "# Tampilkan informasi data\n",
        "\n",
        "data.info()"
      ],
      "metadata": {
        "colab": {
          "base_uri": "https://localhost:8080/"
        },
        "id": "zUPiEa3D6dqL",
        "outputId": "cdc84ef9-d233-4b4a-ba31-c93aca173ba9"
      },
      "execution_count": 7,
      "outputs": [
        {
          "output_type": "stream",
          "name": "stdout",
          "text": [
            "<class 'pandas.core.frame.DataFrame'>\n",
            "RangeIndex: 1014 entries, 0 to 1013\n",
            "Data columns (total 7 columns):\n",
            " #   Column       Non-Null Count  Dtype  \n",
            "---  ------       --------------  -----  \n",
            " 0   Age          1014 non-null   int64  \n",
            " 1   SystolicBP   1014 non-null   int64  \n",
            " 2   DiastolicBP  1014 non-null   int64  \n",
            " 3   BS           1014 non-null   float64\n",
            " 4   BodyTemp     1014 non-null   float64\n",
            " 5   HeartRate    1014 non-null   int64  \n",
            " 6   RiskLevel    1014 non-null   object \n",
            "dtypes: float64(2), int64(4), object(1)\n",
            "memory usage: 55.6+ KB\n"
          ]
        }
      ]
    },
    {
      "cell_type": "code",
      "source": [
        "# Ubah Value pada RiskLevel\n",
        "\n",
        "#data['RiskLevel'].replace(['low risk','mid risk', 'high risk'], [1,2,3], inplace=True)"
      ],
      "metadata": {
        "id": "e2YQuRfh6bI_"
      },
      "execution_count": 8,
      "outputs": []
    },
    {
      "cell_type": "code",
      "source": [
        "# Tampilkan data setelah value RiskLevel diubah ke numerikal \n",
        "\n",
        "data.head()"
      ],
      "metadata": {
        "colab": {
          "base_uri": "https://localhost:8080/",
          "height": 206
        },
        "id": "4l4k3kOL6_cd",
        "outputId": "88f60808-3c7a-4bf0-8a28-eeb0396f1a49"
      },
      "execution_count": 9,
      "outputs": [
        {
          "output_type": "execute_result",
          "data": {
            "text/plain": [
              "   Age  SystolicBP  DiastolicBP    BS  BodyTemp  HeartRate  RiskLevel\n",
              "0   25         130           80  15.0      98.0         86  high risk\n",
              "1   35         140           90  13.0      98.0         70  high risk\n",
              "2   29          90           70   8.0     100.0         80  high risk\n",
              "3   30         140           85   7.0      98.0         70  high risk\n",
              "4   35         120           60   6.1      98.0         76   low risk"
            ],
            "text/html": [
              "\n",
              "  <div id=\"df-3074484f-0ca3-4420-81ed-a41df5801c26\">\n",
              "    <div class=\"colab-df-container\">\n",
              "      <div>\n",
              "<style scoped>\n",
              "    .dataframe tbody tr th:only-of-type {\n",
              "        vertical-align: middle;\n",
              "    }\n",
              "\n",
              "    .dataframe tbody tr th {\n",
              "        vertical-align: top;\n",
              "    }\n",
              "\n",
              "    .dataframe thead th {\n",
              "        text-align: right;\n",
              "    }\n",
              "</style>\n",
              "<table border=\"1\" class=\"dataframe\">\n",
              "  <thead>\n",
              "    <tr style=\"text-align: right;\">\n",
              "      <th></th>\n",
              "      <th>Age</th>\n",
              "      <th>SystolicBP</th>\n",
              "      <th>DiastolicBP</th>\n",
              "      <th>BS</th>\n",
              "      <th>BodyTemp</th>\n",
              "      <th>HeartRate</th>\n",
              "      <th>RiskLevel</th>\n",
              "    </tr>\n",
              "  </thead>\n",
              "  <tbody>\n",
              "    <tr>\n",
              "      <th>0</th>\n",
              "      <td>25</td>\n",
              "      <td>130</td>\n",
              "      <td>80</td>\n",
              "      <td>15.0</td>\n",
              "      <td>98.0</td>\n",
              "      <td>86</td>\n",
              "      <td>high risk</td>\n",
              "    </tr>\n",
              "    <tr>\n",
              "      <th>1</th>\n",
              "      <td>35</td>\n",
              "      <td>140</td>\n",
              "      <td>90</td>\n",
              "      <td>13.0</td>\n",
              "      <td>98.0</td>\n",
              "      <td>70</td>\n",
              "      <td>high risk</td>\n",
              "    </tr>\n",
              "    <tr>\n",
              "      <th>2</th>\n",
              "      <td>29</td>\n",
              "      <td>90</td>\n",
              "      <td>70</td>\n",
              "      <td>8.0</td>\n",
              "      <td>100.0</td>\n",
              "      <td>80</td>\n",
              "      <td>high risk</td>\n",
              "    </tr>\n",
              "    <tr>\n",
              "      <th>3</th>\n",
              "      <td>30</td>\n",
              "      <td>140</td>\n",
              "      <td>85</td>\n",
              "      <td>7.0</td>\n",
              "      <td>98.0</td>\n",
              "      <td>70</td>\n",
              "      <td>high risk</td>\n",
              "    </tr>\n",
              "    <tr>\n",
              "      <th>4</th>\n",
              "      <td>35</td>\n",
              "      <td>120</td>\n",
              "      <td>60</td>\n",
              "      <td>6.1</td>\n",
              "      <td>98.0</td>\n",
              "      <td>76</td>\n",
              "      <td>low risk</td>\n",
              "    </tr>\n",
              "  </tbody>\n",
              "</table>\n",
              "</div>\n",
              "      <button class=\"colab-df-convert\" onclick=\"convertToInteractive('df-3074484f-0ca3-4420-81ed-a41df5801c26')\"\n",
              "              title=\"Convert this dataframe to an interactive table.\"\n",
              "              style=\"display:none;\">\n",
              "        \n",
              "  <svg xmlns=\"http://www.w3.org/2000/svg\" height=\"24px\"viewBox=\"0 0 24 24\"\n",
              "       width=\"24px\">\n",
              "    <path d=\"M0 0h24v24H0V0z\" fill=\"none\"/>\n",
              "    <path d=\"M18.56 5.44l.94 2.06.94-2.06 2.06-.94-2.06-.94-.94-2.06-.94 2.06-2.06.94zm-11 1L8.5 8.5l.94-2.06 2.06-.94-2.06-.94L8.5 2.5l-.94 2.06-2.06.94zm10 10l.94 2.06.94-2.06 2.06-.94-2.06-.94-.94-2.06-.94 2.06-2.06.94z\"/><path d=\"M17.41 7.96l-1.37-1.37c-.4-.4-.92-.59-1.43-.59-.52 0-1.04.2-1.43.59L10.3 9.45l-7.72 7.72c-.78.78-.78 2.05 0 2.83L4 21.41c.39.39.9.59 1.41.59.51 0 1.02-.2 1.41-.59l7.78-7.78 2.81-2.81c.8-.78.8-2.07 0-2.86zM5.41 20L4 18.59l7.72-7.72 1.47 1.35L5.41 20z\"/>\n",
              "  </svg>\n",
              "      </button>\n",
              "      \n",
              "  <style>\n",
              "    .colab-df-container {\n",
              "      display:flex;\n",
              "      flex-wrap:wrap;\n",
              "      gap: 12px;\n",
              "    }\n",
              "\n",
              "    .colab-df-convert {\n",
              "      background-color: #E8F0FE;\n",
              "      border: none;\n",
              "      border-radius: 50%;\n",
              "      cursor: pointer;\n",
              "      display: none;\n",
              "      fill: #1967D2;\n",
              "      height: 32px;\n",
              "      padding: 0 0 0 0;\n",
              "      width: 32px;\n",
              "    }\n",
              "\n",
              "    .colab-df-convert:hover {\n",
              "      background-color: #E2EBFA;\n",
              "      box-shadow: 0px 1px 2px rgba(60, 64, 67, 0.3), 0px 1px 3px 1px rgba(60, 64, 67, 0.15);\n",
              "      fill: #174EA6;\n",
              "    }\n",
              "\n",
              "    [theme=dark] .colab-df-convert {\n",
              "      background-color: #3B4455;\n",
              "      fill: #D2E3FC;\n",
              "    }\n",
              "\n",
              "    [theme=dark] .colab-df-convert:hover {\n",
              "      background-color: #434B5C;\n",
              "      box-shadow: 0px 1px 3px 1px rgba(0, 0, 0, 0.15);\n",
              "      filter: drop-shadow(0px 1px 2px rgba(0, 0, 0, 0.3));\n",
              "      fill: #FFFFFF;\n",
              "    }\n",
              "  </style>\n",
              "\n",
              "      <script>\n",
              "        const buttonEl =\n",
              "          document.querySelector('#df-3074484f-0ca3-4420-81ed-a41df5801c26 button.colab-df-convert');\n",
              "        buttonEl.style.display =\n",
              "          google.colab.kernel.accessAllowed ? 'block' : 'none';\n",
              "\n",
              "        async function convertToInteractive(key) {\n",
              "          const element = document.querySelector('#df-3074484f-0ca3-4420-81ed-a41df5801c26');\n",
              "          const dataTable =\n",
              "            await google.colab.kernel.invokeFunction('convertToInteractive',\n",
              "                                                     [key], {});\n",
              "          if (!dataTable) return;\n",
              "\n",
              "          const docLinkHtml = 'Like what you see? Visit the ' +\n",
              "            '<a target=\"_blank\" href=https://colab.research.google.com/notebooks/data_table.ipynb>data table notebook</a>'\n",
              "            + ' to learn more about interactive tables.';\n",
              "          element.innerHTML = '';\n",
              "          dataTable['output_type'] = 'display_data';\n",
              "          await google.colab.output.renderOutput(dataTable, element);\n",
              "          const docLink = document.createElement('div');\n",
              "          docLink.innerHTML = docLinkHtml;\n",
              "          element.appendChild(docLink);\n",
              "        }\n",
              "      </script>\n",
              "    </div>\n",
              "  </div>\n",
              "  "
            ]
          },
          "metadata": {},
          "execution_count": 9
        }
      ]
    },
    {
      "cell_type": "code",
      "source": [
        "# Ubah nama fitur BS menjadi BloodSugar\n",
        "\n",
        "data = data.rename(columns={'BS': 'BloodSugar'})"
      ],
      "metadata": {
        "id": "Ioj9WDvkQa4G"
      },
      "execution_count": 10,
      "outputs": []
    },
    {
      "cell_type": "markdown",
      "source": [
        "> Mengubah nama fitur BS menjadi BloodSugar agar data yang dimiliki lebih mudah dimengerti."
      ],
      "metadata": {
        "id": "U3CJJQ6iRCt2"
      }
    },
    {
      "cell_type": "code",
      "source": [
        "# Tampilkan informasi data setelah value RiskLevel diubah ke numerikal \n",
        "\n",
        "data.info()"
      ],
      "metadata": {
        "colab": {
          "base_uri": "https://localhost:8080/"
        },
        "id": "BsfbXQPQ7Buk",
        "outputId": "e03bbbae-b8a6-4878-d09a-90f4649e4103"
      },
      "execution_count": 11,
      "outputs": [
        {
          "output_type": "stream",
          "name": "stdout",
          "text": [
            "<class 'pandas.core.frame.DataFrame'>\n",
            "RangeIndex: 1014 entries, 0 to 1013\n",
            "Data columns (total 7 columns):\n",
            " #   Column       Non-Null Count  Dtype  \n",
            "---  ------       --------------  -----  \n",
            " 0   Age          1014 non-null   int64  \n",
            " 1   SystolicBP   1014 non-null   int64  \n",
            " 2   DiastolicBP  1014 non-null   int64  \n",
            " 3   BloodSugar   1014 non-null   float64\n",
            " 4   BodyTemp     1014 non-null   float64\n",
            " 5   HeartRate    1014 non-null   int64  \n",
            " 6   RiskLevel    1014 non-null   object \n",
            "dtypes: float64(2), int64(4), object(1)\n",
            "memory usage: 55.6+ KB\n"
          ]
        }
      ]
    },
    {
      "cell_type": "markdown",
      "source": [
        "> Data yang dimiliki semua memiliki tipe data numerikal dan hanya satu fitur yang memiliki tipe data kategorikal yaitu fitur `RiskLevel`.\n",
        "\n",
        "> Fitur `RiskLevel` akan dijadikan sebagai target atau y dan  dilakukan encoding dengan label encoding pada label tersebut. "
      ],
      "metadata": {
        "id": "VbV2h25rb4NL"
      }
    },
    {
      "cell_type": "code",
      "source": [
        "# Cek duplikasi data\n",
        "\n",
        "data.duplicated().sum()"
      ],
      "metadata": {
        "colab": {
          "base_uri": "https://localhost:8080/"
        },
        "id": "WQX410Qr_7sE",
        "outputId": "19d9ce48-c2dd-4bd4-dcab-70a6d044a698"
      },
      "execution_count": 12,
      "outputs": [
        {
          "output_type": "execute_result",
          "data": {
            "text/plain": [
              "562"
            ]
          },
          "metadata": {},
          "execution_count": 12
        }
      ]
    },
    {
      "cell_type": "markdown",
      "source": [
        "> Terdapat 562 duplikasi data namun pada project ini duplikasi data diabaikan karena pada data yang dimiliki tidak memiliki primary key atau user_id yang dapat membedakan masing-masing data. Jika 562 duplikasi data dihapus menurut saya akan mengurangi jumlah data yang menyebabkan pada proses modeling tidak akan optimal."
      ],
      "metadata": {
        "id": "9TVjXD_vA-x4"
      }
    },
    {
      "cell_type": "code",
      "source": [
        "data = data[data['HeartRate'] != 7]"
      ],
      "metadata": {
        "id": "x46GnUhu9-_e"
      },
      "execution_count": 13,
      "outputs": []
    },
    {
      "cell_type": "code",
      "source": [
        "data.shape"
      ],
      "metadata": {
        "colab": {
          "base_uri": "https://localhost:8080/"
        },
        "id": "exB2TXHv-CmS",
        "outputId": "92408bcb-b166-4961-9b09-14b4bbfc7194"
      },
      "execution_count": 14,
      "outputs": [
        {
          "output_type": "execute_result",
          "data": {
            "text/plain": [
              "(1012, 7)"
            ]
          },
          "metadata": {},
          "execution_count": 14
        }
      ]
    },
    {
      "cell_type": "markdown",
      "source": [
        "# EDA"
      ],
      "metadata": {
        "id": "6d9oNMQEDk2d"
      }
    },
    {
      "cell_type": "code",
      "source": [
        "# Tampilkan deskripsi data\n",
        "\n",
        "data.describe()"
      ],
      "metadata": {
        "colab": {
          "base_uri": "https://localhost:8080/",
          "height": 300
        },
        "id": "EgMN2-4cy_TC",
        "outputId": "1786ca4e-7ba7-4db3-a077-0bbdd5140c46"
      },
      "execution_count": 15,
      "outputs": [
        {
          "output_type": "execute_result",
          "data": {
            "text/plain": [
              "               Age   SystolicBP  DiastolicBP   BloodSugar     BodyTemp  \\\n",
              "count  1012.000000  1012.000000  1012.000000  1012.000000  1012.000000   \n",
              "mean     29.899209   113.184783    76.463439     8.727619    98.666403   \n",
              "std      13.473560    18.419618    13.899372     3.296583     1.372421   \n",
              "min      10.000000    70.000000    49.000000     6.000000    98.000000   \n",
              "25%      19.000000   100.000000    65.000000     6.900000    98.000000   \n",
              "50%      26.000000   120.000000    80.000000     7.500000    98.000000   \n",
              "75%      39.000000   120.000000    90.000000     8.000000    98.000000   \n",
              "max      70.000000   160.000000   100.000000    19.000000   103.000000   \n",
              "\n",
              "         HeartRate  \n",
              "count  1012.000000  \n",
              "mean     74.434783  \n",
              "std       7.521857  \n",
              "min      60.000000  \n",
              "25%      70.000000  \n",
              "50%      76.000000  \n",
              "75%      80.000000  \n",
              "max      90.000000  "
            ],
            "text/html": [
              "\n",
              "  <div id=\"df-ea9a707c-1ef8-47fe-86d3-c8092bbc1b50\">\n",
              "    <div class=\"colab-df-container\">\n",
              "      <div>\n",
              "<style scoped>\n",
              "    .dataframe tbody tr th:only-of-type {\n",
              "        vertical-align: middle;\n",
              "    }\n",
              "\n",
              "    .dataframe tbody tr th {\n",
              "        vertical-align: top;\n",
              "    }\n",
              "\n",
              "    .dataframe thead th {\n",
              "        text-align: right;\n",
              "    }\n",
              "</style>\n",
              "<table border=\"1\" class=\"dataframe\">\n",
              "  <thead>\n",
              "    <tr style=\"text-align: right;\">\n",
              "      <th></th>\n",
              "      <th>Age</th>\n",
              "      <th>SystolicBP</th>\n",
              "      <th>DiastolicBP</th>\n",
              "      <th>BloodSugar</th>\n",
              "      <th>BodyTemp</th>\n",
              "      <th>HeartRate</th>\n",
              "    </tr>\n",
              "  </thead>\n",
              "  <tbody>\n",
              "    <tr>\n",
              "      <th>count</th>\n",
              "      <td>1012.000000</td>\n",
              "      <td>1012.000000</td>\n",
              "      <td>1012.000000</td>\n",
              "      <td>1012.000000</td>\n",
              "      <td>1012.000000</td>\n",
              "      <td>1012.000000</td>\n",
              "    </tr>\n",
              "    <tr>\n",
              "      <th>mean</th>\n",
              "      <td>29.899209</td>\n",
              "      <td>113.184783</td>\n",
              "      <td>76.463439</td>\n",
              "      <td>8.727619</td>\n",
              "      <td>98.666403</td>\n",
              "      <td>74.434783</td>\n",
              "    </tr>\n",
              "    <tr>\n",
              "      <th>std</th>\n",
              "      <td>13.473560</td>\n",
              "      <td>18.419618</td>\n",
              "      <td>13.899372</td>\n",
              "      <td>3.296583</td>\n",
              "      <td>1.372421</td>\n",
              "      <td>7.521857</td>\n",
              "    </tr>\n",
              "    <tr>\n",
              "      <th>min</th>\n",
              "      <td>10.000000</td>\n",
              "      <td>70.000000</td>\n",
              "      <td>49.000000</td>\n",
              "      <td>6.000000</td>\n",
              "      <td>98.000000</td>\n",
              "      <td>60.000000</td>\n",
              "    </tr>\n",
              "    <tr>\n",
              "      <th>25%</th>\n",
              "      <td>19.000000</td>\n",
              "      <td>100.000000</td>\n",
              "      <td>65.000000</td>\n",
              "      <td>6.900000</td>\n",
              "      <td>98.000000</td>\n",
              "      <td>70.000000</td>\n",
              "    </tr>\n",
              "    <tr>\n",
              "      <th>50%</th>\n",
              "      <td>26.000000</td>\n",
              "      <td>120.000000</td>\n",
              "      <td>80.000000</td>\n",
              "      <td>7.500000</td>\n",
              "      <td>98.000000</td>\n",
              "      <td>76.000000</td>\n",
              "    </tr>\n",
              "    <tr>\n",
              "      <th>75%</th>\n",
              "      <td>39.000000</td>\n",
              "      <td>120.000000</td>\n",
              "      <td>90.000000</td>\n",
              "      <td>8.000000</td>\n",
              "      <td>98.000000</td>\n",
              "      <td>80.000000</td>\n",
              "    </tr>\n",
              "    <tr>\n",
              "      <th>max</th>\n",
              "      <td>70.000000</td>\n",
              "      <td>160.000000</td>\n",
              "      <td>100.000000</td>\n",
              "      <td>19.000000</td>\n",
              "      <td>103.000000</td>\n",
              "      <td>90.000000</td>\n",
              "    </tr>\n",
              "  </tbody>\n",
              "</table>\n",
              "</div>\n",
              "      <button class=\"colab-df-convert\" onclick=\"convertToInteractive('df-ea9a707c-1ef8-47fe-86d3-c8092bbc1b50')\"\n",
              "              title=\"Convert this dataframe to an interactive table.\"\n",
              "              style=\"display:none;\">\n",
              "        \n",
              "  <svg xmlns=\"http://www.w3.org/2000/svg\" height=\"24px\"viewBox=\"0 0 24 24\"\n",
              "       width=\"24px\">\n",
              "    <path d=\"M0 0h24v24H0V0z\" fill=\"none\"/>\n",
              "    <path d=\"M18.56 5.44l.94 2.06.94-2.06 2.06-.94-2.06-.94-.94-2.06-.94 2.06-2.06.94zm-11 1L8.5 8.5l.94-2.06 2.06-.94-2.06-.94L8.5 2.5l-.94 2.06-2.06.94zm10 10l.94 2.06.94-2.06 2.06-.94-2.06-.94-.94-2.06-.94 2.06-2.06.94z\"/><path d=\"M17.41 7.96l-1.37-1.37c-.4-.4-.92-.59-1.43-.59-.52 0-1.04.2-1.43.59L10.3 9.45l-7.72 7.72c-.78.78-.78 2.05 0 2.83L4 21.41c.39.39.9.59 1.41.59.51 0 1.02-.2 1.41-.59l7.78-7.78 2.81-2.81c.8-.78.8-2.07 0-2.86zM5.41 20L4 18.59l7.72-7.72 1.47 1.35L5.41 20z\"/>\n",
              "  </svg>\n",
              "      </button>\n",
              "      \n",
              "  <style>\n",
              "    .colab-df-container {\n",
              "      display:flex;\n",
              "      flex-wrap:wrap;\n",
              "      gap: 12px;\n",
              "    }\n",
              "\n",
              "    .colab-df-convert {\n",
              "      background-color: #E8F0FE;\n",
              "      border: none;\n",
              "      border-radius: 50%;\n",
              "      cursor: pointer;\n",
              "      display: none;\n",
              "      fill: #1967D2;\n",
              "      height: 32px;\n",
              "      padding: 0 0 0 0;\n",
              "      width: 32px;\n",
              "    }\n",
              "\n",
              "    .colab-df-convert:hover {\n",
              "      background-color: #E2EBFA;\n",
              "      box-shadow: 0px 1px 2px rgba(60, 64, 67, 0.3), 0px 1px 3px 1px rgba(60, 64, 67, 0.15);\n",
              "      fill: #174EA6;\n",
              "    }\n",
              "\n",
              "    [theme=dark] .colab-df-convert {\n",
              "      background-color: #3B4455;\n",
              "      fill: #D2E3FC;\n",
              "    }\n",
              "\n",
              "    [theme=dark] .colab-df-convert:hover {\n",
              "      background-color: #434B5C;\n",
              "      box-shadow: 0px 1px 3px 1px rgba(0, 0, 0, 0.15);\n",
              "      filter: drop-shadow(0px 1px 2px rgba(0, 0, 0, 0.3));\n",
              "      fill: #FFFFFF;\n",
              "    }\n",
              "  </style>\n",
              "\n",
              "      <script>\n",
              "        const buttonEl =\n",
              "          document.querySelector('#df-ea9a707c-1ef8-47fe-86d3-c8092bbc1b50 button.colab-df-convert');\n",
              "        buttonEl.style.display =\n",
              "          google.colab.kernel.accessAllowed ? 'block' : 'none';\n",
              "\n",
              "        async function convertToInteractive(key) {\n",
              "          const element = document.querySelector('#df-ea9a707c-1ef8-47fe-86d3-c8092bbc1b50');\n",
              "          const dataTable =\n",
              "            await google.colab.kernel.invokeFunction('convertToInteractive',\n",
              "                                                     [key], {});\n",
              "          if (!dataTable) return;\n",
              "\n",
              "          const docLinkHtml = 'Like what you see? Visit the ' +\n",
              "            '<a target=\"_blank\" href=https://colab.research.google.com/notebooks/data_table.ipynb>data table notebook</a>'\n",
              "            + ' to learn more about interactive tables.';\n",
              "          element.innerHTML = '';\n",
              "          dataTable['output_type'] = 'display_data';\n",
              "          await google.colab.output.renderOutput(dataTable, element);\n",
              "          const docLink = document.createElement('div');\n",
              "          docLink.innerHTML = docLinkHtml;\n",
              "          element.appendChild(docLink);\n",
              "        }\n",
              "      </script>\n",
              "    </div>\n",
              "  </div>\n",
              "  "
            ]
          },
          "metadata": {},
          "execution_count": 15
        }
      ]
    },
    {
      "cell_type": "markdown",
      "source": [
        "> Dari deskripsi data yang ada diketahui bahwa dari 1014 baris data yang dimiliki, usia paling rendah ibu hamil berusia 10 tahun dan usia paling tinggi berusia 70 tahun."
      ],
      "metadata": {
        "id": "rVQxAXd1z-nN"
      }
    },
    {
      "cell_type": "code",
      "source": [
        "# Membuat bins dengan rentang usia setiap 5 tahun\n",
        "bins = range(10, 70, 5)\n",
        "\n",
        "# Menghitung jumlah ibu hamil dalam setiap 5 tahun\n",
        "jumlah_ibu_hamil = pd.cut(data['Age'], bins=bins).value_counts().sort_index()\n",
        "\n",
        "# Tampilkan plot usia\n",
        "\n",
        "plt.figure(figsize = (20, 8))\n",
        "plt.title('Jumlah Kehamilan per Rentang Usia')\n",
        "plt.xlabel('Rentang Usia')\n",
        "plt.ylabel('Jumlah kehamilan')\n",
        "plt.bar(jumlah_ibu_hamil.index.astype(str), jumlah_ibu_hamil)"
      ],
      "metadata": {
        "colab": {
          "base_uri": "https://localhost:8080/",
          "height": 530
        },
        "id": "ahRSk8sO4duy",
        "outputId": "7642d905-9e32-47a9-9de3-b1f101867a68"
      },
      "execution_count": 16,
      "outputs": [
        {
          "output_type": "execute_result",
          "data": {
            "text/plain": [
              "<BarContainer object of 11 artists>"
            ]
          },
          "metadata": {},
          "execution_count": 16
        },
        {
          "output_type": "display_data",
          "data": {
            "text/plain": [
              "<Figure size 1440x576 with 1 Axes>"
            ],
            "image/png": "[encoded data removed]"
          },
          "metadata": {
            "needs_background": "light"
          }
        }
      ]
    },
    {
      "cell_type": "markdown",
      "source": [
        "> Dari informasi yang dimiliki terlihat bahwa pada rentang usia 20 sampai 25 tahun memiliki jumlah ibu hamil terbanyak dengan total 205 ibu hamil dan pada rentang 60 sampai 65 tahun terdapat 6 ibu hamil.\n",
        "\n",
        "> Menurut hasil penelitian Dwi Rani Sukma dari bagian Obgyn Fakultas Kedokteran Univeristas Lampung pada Desember 2020, rentang usia terbaik untuk hamil berada pada rentang usia 20 sampai 35 tahun. Pada data dapat dilihat juga pada rentang usia 10 sampai 15 tahun terdapat 110 kehamilan. Wanita hamil pada usia muda akan memiliki beberapa resiko diantaranya keguguran, persalinan prematur, BBLR, kelainan bawaan, mudah terjadi infeksi, anemia pada kehamilan,keracunan kehamilan (gestosis) dan kematian.\n",
        "\n",
        "> Referensi : https://juke.kedokteran.unila.ac.id/index.php/majority/article/viewFile/2840/2774"
      ],
      "metadata": {
        "id": "5ay6Wd1V1GYv"
      }
    },
    {
      "cell_type": "code",
      "source": [
        "# Tampilkan label pada fitur RiskLevel\n",
        "\n",
        "data['RiskLevel'].unique()"
      ],
      "metadata": {
        "colab": {
          "base_uri": "https://localhost:8080/"
        },
        "id": "Vue36WdQwSMr",
        "outputId": "5fcd9336-89d0-4138-e00e-2368b66076e4"
      },
      "execution_count": 17,
      "outputs": [
        {
          "output_type": "execute_result",
          "data": {
            "text/plain": [
              "array(['high risk', 'low risk', 'mid risk'], dtype=object)"
            ]
          },
          "metadata": {},
          "execution_count": 17
        }
      ]
    },
    {
      "cell_type": "markdown",
      "source": [
        "> Data yang dimiliki memeliki 3 label pada fitur `RiskLevel` yaitu high risk, low risk dan mid risk. Label tersebut meupakan representasi dari tingkat risiko kesehatan pada ibu hamil."
      ],
      "metadata": {
        "id": "GFNojOY3xK3E"
      }
    },
    {
      "cell_type": "code",
      "source": [
        "# Hitung masing-masing label pada fitur RiskLevel\n",
        "\n",
        "data['RiskLevel'].value_counts()"
      ],
      "metadata": {
        "colab": {
          "base_uri": "https://localhost:8080/"
        },
        "id": "DveIT1_WEXn3",
        "outputId": "05371e45-b547-40bd-abc5-c09614be97bb"
      },
      "execution_count": 18,
      "outputs": [
        {
          "output_type": "execute_result",
          "data": {
            "text/plain": [
              "low risk     404\n",
              "mid risk     336\n",
              "high risk    272\n",
              "Name: RiskLevel, dtype: int64"
            ]
          },
          "metadata": {},
          "execution_count": 18
        }
      ]
    },
    {
      "cell_type": "markdown",
      "source": [
        "> Data yang dimiliki terdiri dari 406 ibu hamil memiliki label low risk, 336 ibu hamil memiliki label mid risk dan 272 ibu hamil memiliki label high risk.\n",
        "\n",
        "> Terlihat dari informasi yang dimiliki, data cenderung balance."
      ],
      "metadata": {
        "id": "28iVEwjhIlx3"
      }
    },
    {
      "cell_type": "code",
      "source": [
        "plt.figure(figsize=(15,5))\n",
        "sns.heatmap(data.corr(), cmap='YlGnBu', annot=True)\n",
        "plt.show()"
      ],
      "metadata": {
        "colab": {
          "base_uri": "https://localhost:8080/",
          "height": 324
        },
        "id": "2D-dfo0NiwG_",
        "outputId": "4db62987-71da-4e19-8ad9-17201c745ac9"
      },
      "execution_count": 19,
      "outputs": [
        {
          "output_type": "display_data",
          "data": {
            "text/plain": [
              "<Figure size 1080x360 with 2 Axes>"
            ],
            "image/png": "[encoded data removed]"
          },
          "metadata": {
            "needs_background": "light"
          }
        }
      ]
    },
    {
      "cell_type": "markdown",
      "source": [
        "> Dapat dilihat bawa korelasi yang paling terlihat adalah ketika HeartRate memiliki korelasi positif dengan BodyTemp, ketika HeartRate tinggi maka suhu badan akan tinggi juga, begitu pula sebaliknya.\n"
      ],
      "metadata": {
        "id": "KnqXUtQ2i-w5"
      }
    },
    {
      "cell_type": "markdown",
      "source": [
        "# FEATURE ENGINEERING"
      ],
      "metadata": {
        "id": "7y-gcRqRNlLX"
      }
    },
    {
      "cell_type": "markdown",
      "source": [
        "## CARDINALITY"
      ],
      "metadata": {
        "id": "OBkKucx4CmTd"
      }
    },
    {
      "cell_type": "code",
      "source": [
        "# Cek Kardinalitas\n",
        "\n",
        "print('Unique value pada fitur Age         : {}'.format(len(data.Age.unique())))\n",
        "print('Unique value pada fitur SystolicBP  : {}'.format(len(data.SystolicBP.unique())))\n",
        "print('Unique value pada fitur DiastolicBP : {}'.format(len(data.DiastolicBP.unique())))\n",
        "print('Unique value pada fitur BloodSugar  : {}'.format(len(data.BloodSugar.unique())))\n",
        "print('Unique value pada fitur Bodytemp    : {}'.format(len(data.BodyTemp.unique())))\n",
        "print('Unique value pada fitur HeartRate   : {}'.format(len(data.HeartRate.unique())))\n",
        "print('Unique value pada fitur RiskLevel   : {}'.format(len(data.RiskLevel.unique())))\n",
        "print('Total baris data yang dimiliki      : {}'.format(len(data)))"
      ],
      "metadata": {
        "colab": {
          "base_uri": "https://localhost:8080/"
        },
        "id": "OlBVh8Y3ClJm",
        "outputId": "3d62f6dd-4f43-4c0f-cdc5-4b6e55cb6db0"
      },
      "execution_count": 20,
      "outputs": [
        {
          "output_type": "stream",
          "name": "stdout",
          "text": [
            "Unique value pada fitur Age         : 50\n",
            "Unique value pada fitur SystolicBP  : 19\n",
            "Unique value pada fitur DiastolicBP : 16\n",
            "Unique value pada fitur BloodSugar  : 29\n",
            "Unique value pada fitur Bodytemp    : 8\n",
            "Unique value pada fitur HeartRate   : 15\n",
            "Unique value pada fitur RiskLevel   : 3\n",
            "Total baris data yang dimiliki      : 1012\n"
          ]
        }
      ]
    },
    {
      "cell_type": "markdown",
      "source": [
        "> Setelah dilakukan pengecekan unique value untuk melihat kardinalitas data, saya memilih untuk tidak mereduksi kardinalitas yang dimiliki. Alasan tidak melakukan reduksi kardinalitas dikarenakan nilai kardinalitasnya tidak terlalu tinggi."
      ],
      "metadata": {
        "id": "vqOgWUh5R8yy"
      }
    },
    {
      "cell_type": "markdown",
      "source": [
        "## ENCODING DATA"
      ],
      "metadata": {
        "id": "FfqTrpwe9ViU"
      }
    },
    {
      "cell_type": "markdown",
      "source": [
        "> Data yang dimiliki terdiri dari 7 fitur data dengan 6 fitur numerikal dan 1 fitur kategorikal. Untuk mempermudah proses modelling, fitur data kategorikal harus diubah kedalam bentuk numerik.\n",
        "\n",
        "> Merubah katergorikal kedalam numerikal biasa disebut encoding. Firut `RiskLevel` merupakan target (y) dan memiliki nilai berupa data kategorikal nominal. Data dengan tipe kategorikal nominal dapat dilakukan encoding dengan menggunakan One Hot Endoder maupun Label Encoder.\n",
        "\n",
        "> Saya menggunakan label encoder."
      ],
      "metadata": {
        "id": "4KQ84mG89ZPA"
      }
    },
    {
      "cell_type": "code",
      "source": [
        "data"
      ],
      "metadata": {
        "colab": {
          "base_uri": "https://localhost:8080/",
          "height": 0
        },
        "id": "2nAXXZn5_yZM",
        "outputId": "83eed5b6-53f6-4f51-ea70-d0d78745ce6b"
      },
      "execution_count": 21,
      "outputs": [
        {
          "output_type": "execute_result",
          "data": {
            "text/plain": [
              "      Age  SystolicBP  DiastolicBP  BloodSugar  BodyTemp  HeartRate  RiskLevel\n",
              "0      25         130           80        15.0      98.0         86  high risk\n",
              "1      35         140           90        13.0      98.0         70  high risk\n",
              "2      29          90           70         8.0     100.0         80  high risk\n",
              "3      30         140           85         7.0      98.0         70  high risk\n",
              "4      35         120           60         6.1      98.0         76   low risk\n",
              "...   ...         ...          ...         ...       ...        ...        ...\n",
              "1009   22         120           60        15.0      98.0         80  high risk\n",
              "1010   55         120           90        18.0      98.0         60  high risk\n",
              "1011   35          85           60        19.0      98.0         86  high risk\n",
              "1012   43         120           90        18.0      98.0         70  high risk\n",
              "1013   32         120           65         6.0     101.0         76   mid risk\n",
              "\n",
              "[1012 rows x 7 columns]"
            ],
            "text/html": [
              "\n",
              "  <div id=\"df-6e6c3f4b-af10-4639-b0a3-15a759d2085a\">\n",
              "    <div class=\"colab-df-container\">\n",
              "      <div>\n",
              "<style scoped>\n",
              "    .dataframe tbody tr th:only-of-type {\n",
              "        vertical-align: middle;\n",
              "    }\n",
              "\n",
              "    .dataframe tbody tr th {\n",
              "        vertical-align: top;\n",
              "    }\n",
              "\n",
              "    .dataframe thead th {\n",
              "        text-align: right;\n",
              "    }\n",
              "</style>\n",
              "<table border=\"1\" class=\"dataframe\">\n",
              "  <thead>\n",
              "    <tr style=\"text-align: right;\">\n",
              "      <th></th>\n",
              "      <th>Age</th>\n",
              "      <th>SystolicBP</th>\n",
              "      <th>DiastolicBP</th>\n",
              "      <th>BloodSugar</th>\n",
              "      <th>BodyTemp</th>\n",
              "      <th>HeartRate</th>\n",
              "      <th>RiskLevel</th>\n",
              "    </tr>\n",
              "  </thead>\n",
              "  <tbody>\n",
              "    <tr>\n",
              "      <th>0</th>\n",
              "      <td>25</td>\n",
              "      <td>130</td>\n",
              "      <td>80</td>\n",
              "      <td>15.0</td>\n",
              "      <td>98.0</td>\n",
              "      <td>86</td>\n",
              "      <td>high risk</td>\n",
              "    </tr>\n",
              "    <tr>\n",
              "      <th>1</th>\n",
              "      <td>35</td>\n",
              "      <td>140</td>\n",
              "      <td>90</td>\n",
              "      <td>13.0</td>\n",
              "      <td>98.0</td>\n",
              "      <td>70</td>\n",
              "      <td>high risk</td>\n",
              "    </tr>\n",
              "    <tr>\n",
              "      <th>2</th>\n",
              "      <td>29</td>\n",
              "      <td>90</td>\n",
              "      <td>70</td>\n",
              "      <td>8.0</td>\n",
              "      <td>100.0</td>\n",
              "      <td>80</td>\n",
              "      <td>high risk</td>\n",
              "    </tr>\n",
              "    <tr>\n",
              "      <th>3</th>\n",
              "      <td>30</td>\n",
              "      <td>140</td>\n",
              "      <td>85</td>\n",
              "      <td>7.0</td>\n",
              "      <td>98.0</td>\n",
              "      <td>70</td>\n",
              "      <td>high risk</td>\n",
              "    </tr>\n",
              "    <tr>\n",
              "      <th>4</th>\n",
              "      <td>35</td>\n",
              "      <td>120</td>\n",
              "      <td>60</td>\n",
              "      <td>6.1</td>\n",
              "      <td>98.0</td>\n",
              "      <td>76</td>\n",
              "      <td>low risk</td>\n",
              "    </tr>\n",
              "    <tr>\n",
              "      <th>...</th>\n",
              "      <td>...</td>\n",
              "      <td>...</td>\n",
              "      <td>...</td>\n",
              "      <td>...</td>\n",
              "      <td>...</td>\n",
              "      <td>...</td>\n",
              "      <td>...</td>\n",
              "    </tr>\n",
              "    <tr>\n",
              "      <th>1009</th>\n",
              "      <td>22</td>\n",
              "      <td>120</td>\n",
              "      <td>60</td>\n",
              "      <td>15.0</td>\n",
              "      <td>98.0</td>\n",
              "      <td>80</td>\n",
              "      <td>high risk</td>\n",
              "    </tr>\n",
              "    <tr>\n",
              "      <th>1010</th>\n",
              "      <td>55</td>\n",
              "      <td>120</td>\n",
              "      <td>90</td>\n",
              "      <td>18.0</td>\n",
              "      <td>98.0</td>\n",
              "      <td>60</td>\n",
              "      <td>high risk</td>\n",
              "    </tr>\n",
              "    <tr>\n",
              "      <th>1011</th>\n",
              "      <td>35</td>\n",
              "      <td>85</td>\n",
              "      <td>60</td>\n",
              "      <td>19.0</td>\n",
              "      <td>98.0</td>\n",
              "      <td>86</td>\n",
              "      <td>high risk</td>\n",
              "    </tr>\n",
              "    <tr>\n",
              "      <th>1012</th>\n",
              "      <td>43</td>\n",
              "      <td>120</td>\n",
              "      <td>90</td>\n",
              "      <td>18.0</td>\n",
              "      <td>98.0</td>\n",
              "      <td>70</td>\n",
              "      <td>high risk</td>\n",
              "    </tr>\n",
              "    <tr>\n",
              "      <th>1013</th>\n",
              "      <td>32</td>\n",
              "      <td>120</td>\n",
              "      <td>65</td>\n",
              "      <td>6.0</td>\n",
              "      <td>101.0</td>\n",
              "      <td>76</td>\n",
              "      <td>mid risk</td>\n",
              "    </tr>\n",
              "  </tbody>\n",
              "</table>\n",
              "<p>1012 rows × 7 columns</p>\n",
              "</div>\n",
              "      <button class=\"colab-df-convert\" onclick=\"convertToInteractive('df-6e6c3f4b-af10-4639-b0a3-15a759d2085a')\"\n",
              "              title=\"Convert this dataframe to an interactive table.\"\n",
              "              style=\"display:none;\">\n",
              "        \n",
              "  <svg xmlns=\"http://www.w3.org/2000/svg\" height=\"24px\"viewBox=\"0 0 24 24\"\n",
              "       width=\"24px\">\n",
              "    <path d=\"M0 0h24v24H0V0z\" fill=\"none\"/>\n",
              "    <path d=\"M18.56 5.44l.94 2.06.94-2.06 2.06-.94-2.06-.94-.94-2.06-.94 2.06-2.06.94zm-11 1L8.5 8.5l.94-2.06 2.06-.94-2.06-.94L8.5 2.5l-.94 2.06-2.06.94zm10 10l.94 2.06.94-2.06 2.06-.94-2.06-.94-.94-2.06-.94 2.06-2.06.94z\"/><path d=\"M17.41 7.96l-1.37-1.37c-.4-.4-.92-.59-1.43-.59-.52 0-1.04.2-1.43.59L10.3 9.45l-7.72 7.72c-.78.78-.78 2.05 0 2.83L4 21.41c.39.39.9.59 1.41.59.51 0 1.02-.2 1.41-.59l7.78-7.78 2.81-2.81c.8-.78.8-2.07 0-2.86zM5.41 20L4 18.59l7.72-7.72 1.47 1.35L5.41 20z\"/>\n",
              "  </svg>\n",
              "      </button>\n",
              "      \n",
              "  <style>\n",
              "    .colab-df-container {\n",
              "      display:flex;\n",
              "      flex-wrap:wrap;\n",
              "      gap: 12px;\n",
              "    }\n",
              "\n",
              "    .colab-df-convert {\n",
              "      background-color: #E8F0FE;\n",
              "      border: none;\n",
              "      border-radius: 50%;\n",
              "      cursor: pointer;\n",
              "      display: none;\n",
              "      fill: #1967D2;\n",
              "      height: 32px;\n",
              "      padding: 0 0 0 0;\n",
              "      width: 32px;\n",
              "    }\n",
              "\n",
              "    .colab-df-convert:hover {\n",
              "      background-color: #E2EBFA;\n",
              "      box-shadow: 0px 1px 2px rgba(60, 64, 67, 0.3), 0px 1px 3px 1px rgba(60, 64, 67, 0.15);\n",
              "      fill: #174EA6;\n",
              "    }\n",
              "\n",
              "    [theme=dark] .colab-df-convert {\n",
              "      background-color: #3B4455;\n",
              "      fill: #D2E3FC;\n",
              "    }\n",
              "\n",
              "    [theme=dark] .colab-df-convert:hover {\n",
              "      background-color: #434B5C;\n",
              "      box-shadow: 0px 1px 3px 1px rgba(0, 0, 0, 0.15);\n",
              "      filter: drop-shadow(0px 1px 2px rgba(0, 0, 0, 0.3));\n",
              "      fill: #FFFFFF;\n",
              "    }\n",
              "  </style>\n",
              "\n",
              "      <script>\n",
              "        const buttonEl =\n",
              "          document.querySelector('#df-6e6c3f4b-af10-4639-b0a3-15a759d2085a button.colab-df-convert');\n",
              "        buttonEl.style.display =\n",
              "          google.colab.kernel.accessAllowed ? 'block' : 'none';\n",
              "\n",
              "        async function convertToInteractive(key) {\n",
              "          const element = document.querySelector('#df-6e6c3f4b-af10-4639-b0a3-15a759d2085a');\n",
              "          const dataTable =\n",
              "            await google.colab.kernel.invokeFunction('convertToInteractive',\n",
              "                                                     [key], {});\n",
              "          if (!dataTable) return;\n",
              "\n",
              "          const docLinkHtml = 'Like what you see? Visit the ' +\n",
              "            '<a target=\"_blank\" href=https://colab.research.google.com/notebooks/data_table.ipynb>data table notebook</a>'\n",
              "            + ' to learn more about interactive tables.';\n",
              "          element.innerHTML = '';\n",
              "          dataTable['output_type'] = 'display_data';\n",
              "          await google.colab.output.renderOutput(dataTable, element);\n",
              "          const docLink = document.createElement('div');\n",
              "          docLink.innerHTML = docLinkHtml;\n",
              "          element.appendChild(docLink);\n",
              "        }\n",
              "      </script>\n",
              "    </div>\n",
              "  </div>\n",
              "  "
            ]
          },
          "metadata": {},
          "execution_count": 21
        }
      ]
    },
    {
      "cell_type": "code",
      "source": [
        "label=LabelEncoder()"
      ],
      "metadata": {
        "id": "xgIHfZ7_ep11"
      },
      "execution_count": 22,
      "outputs": []
    },
    {
      "cell_type": "code",
      "source": [
        "# Encoding fitru RiskLevel\n",
        "data['RiskLevel'] = label.fit_transform(data['RiskLevel'])"
      ],
      "metadata": {
        "id": "DR7oauUgNrrK"
      },
      "execution_count": 23,
      "outputs": []
    },
    {
      "cell_type": "code",
      "source": [
        "data"
      ],
      "metadata": {
        "colab": {
          "base_uri": "https://localhost:8080/",
          "height": 0
        },
        "id": "WAn4Uy9WZUoA",
        "outputId": "ff528985-d480-4bb2-b5b5-cfef8873c8d1"
      },
      "execution_count": 24,
      "outputs": [
        {
          "output_type": "execute_result",
          "data": {
            "text/plain": [
              "      Age  SystolicBP  DiastolicBP  BloodSugar  BodyTemp  HeartRate  RiskLevel\n",
              "0      25         130           80        15.0      98.0         86          0\n",
              "1      35         140           90        13.0      98.0         70          0\n",
              "2      29          90           70         8.0     100.0         80          0\n",
              "3      30         140           85         7.0      98.0         70          0\n",
              "4      35         120           60         6.1      98.0         76          1\n",
              "...   ...         ...          ...         ...       ...        ...        ...\n",
              "1009   22         120           60        15.0      98.0         80          0\n",
              "1010   55         120           90        18.0      98.0         60          0\n",
              "1011   35          85           60        19.0      98.0         86          0\n",
              "1012   43         120           90        18.0      98.0         70          0\n",
              "1013   32         120           65         6.0     101.0         76          2\n",
              "\n",
              "[1012 rows x 7 columns]"
            ],
            "text/html": [
              "\n",
              "  <div id=\"df-0fde9823-2d98-4ba2-a015-c0fe072ca50c\">\n",
              "    <div class=\"colab-df-container\">\n",
              "      <div>\n",
              "<style scoped>\n",
              "    .dataframe tbody tr th:only-of-type {\n",
              "        vertical-align: middle;\n",
              "    }\n",
              "\n",
              "    .dataframe tbody tr th {\n",
              "        vertical-align: top;\n",
              "    }\n",
              "\n",
              "    .dataframe thead th {\n",
              "        text-align: right;\n",
              "    }\n",
              "</style>\n",
              "<table border=\"1\" class=\"dataframe\">\n",
              "  <thead>\n",
              "    <tr style=\"text-align: right;\">\n",
              "      <th></th>\n",
              "      <th>Age</th>\n",
              "      <th>SystolicBP</th>\n",
              "      <th>DiastolicBP</th>\n",
              "      <th>BloodSugar</th>\n",
              "      <th>BodyTemp</th>\n",
              "      <th>HeartRate</th>\n",
              "      <th>RiskLevel</th>\n",
              "    </tr>\n",
              "  </thead>\n",
              "  <tbody>\n",
              "    <tr>\n",
              "      <th>0</th>\n",
              "      <td>25</td>\n",
              "      <td>130</td>\n",
              "      <td>80</td>\n",
              "      <td>15.0</td>\n",
              "      <td>98.0</td>\n",
              "      <td>86</td>\n",
              "      <td>0</td>\n",
              "    </tr>\n",
              "    <tr>\n",
              "      <th>1</th>\n",
              "      <td>35</td>\n",
              "      <td>140</td>\n",
              "      <td>90</td>\n",
              "      <td>13.0</td>\n",
              "      <td>98.0</td>\n",
              "      <td>70</td>\n",
              "      <td>0</td>\n",
              "    </tr>\n",
              "    <tr>\n",
              "      <th>2</th>\n",
              "      <td>29</td>\n",
              "      <td>90</td>\n",
              "      <td>70</td>\n",
              "      <td>8.0</td>\n",
              "      <td>100.0</td>\n",
              "      <td>80</td>\n",
              "      <td>0</td>\n",
              "    </tr>\n",
              "    <tr>\n",
              "      <th>3</th>\n",
              "      <td>30</td>\n",
              "      <td>140</td>\n",
              "      <td>85</td>\n",
              "      <td>7.0</td>\n",
              "      <td>98.0</td>\n",
              "      <td>70</td>\n",
              "      <td>0</td>\n",
              "    </tr>\n",
              "    <tr>\n",
              "      <th>4</th>\n",
              "      <td>35</td>\n",
              "      <td>120</td>\n",
              "      <td>60</td>\n",
              "      <td>6.1</td>\n",
              "      <td>98.0</td>\n",
              "      <td>76</td>\n",
              "      <td>1</td>\n",
              "    </tr>\n",
              "    <tr>\n",
              "      <th>...</th>\n",
              "      <td>...</td>\n",
              "      <td>...</td>\n",
              "      <td>...</td>\n",
              "      <td>...</td>\n",
              "      <td>...</td>\n",
              "      <td>...</td>\n",
              "      <td>...</td>\n",
              "    </tr>\n",
              "    <tr>\n",
              "      <th>1009</th>\n",
              "      <td>22</td>\n",
              "      <td>120</td>\n",
              "      <td>60</td>\n",
              "      <td>15.0</td>\n",
              "      <td>98.0</td>\n",
              "      <td>80</td>\n",
              "      <td>0</td>\n",
              "    </tr>\n",
              "    <tr>\n",
              "      <th>1010</th>\n",
              "      <td>55</td>\n",
              "      <td>120</td>\n",
              "      <td>90</td>\n",
              "      <td>18.0</td>\n",
              "      <td>98.0</td>\n",
              "      <td>60</td>\n",
              "      <td>0</td>\n",
              "    </tr>\n",
              "    <tr>\n",
              "      <th>1011</th>\n",
              "      <td>35</td>\n",
              "      <td>85</td>\n",
              "      <td>60</td>\n",
              "      <td>19.0</td>\n",
              "      <td>98.0</td>\n",
              "      <td>86</td>\n",
              "      <td>0</td>\n",
              "    </tr>\n",
              "    <tr>\n",
              "      <th>1012</th>\n",
              "      <td>43</td>\n",
              "      <td>120</td>\n",
              "      <td>90</td>\n",
              "      <td>18.0</td>\n",
              "      <td>98.0</td>\n",
              "      <td>70</td>\n",
              "      <td>0</td>\n",
              "    </tr>\n",
              "    <tr>\n",
              "      <th>1013</th>\n",
              "      <td>32</td>\n",
              "      <td>120</td>\n",
              "      <td>65</td>\n",
              "      <td>6.0</td>\n",
              "      <td>101.0</td>\n",
              "      <td>76</td>\n",
              "      <td>2</td>\n",
              "    </tr>\n",
              "  </tbody>\n",
              "</table>\n",
              "<p>1012 rows × 7 columns</p>\n",
              "</div>\n",
              "      <button class=\"colab-df-convert\" onclick=\"convertToInteractive('df-0fde9823-2d98-4ba2-a015-c0fe072ca50c')\"\n",
              "              title=\"Convert this dataframe to an interactive table.\"\n",
              "              style=\"display:none;\">\n",
              "        \n",
              "  <svg xmlns=\"http://www.w3.org/2000/svg\" height=\"24px\"viewBox=\"0 0 24 24\"\n",
              "       width=\"24px\">\n",
              "    <path d=\"M0 0h24v24H0V0z\" fill=\"none\"/>\n",
              "    <path d=\"M18.56 5.44l.94 2.06.94-2.06 2.06-.94-2.06-.94-.94-2.06-.94 2.06-2.06.94zm-11 1L8.5 8.5l.94-2.06 2.06-.94-2.06-.94L8.5 2.5l-.94 2.06-2.06.94zm10 10l.94 2.06.94-2.06 2.06-.94-2.06-.94-.94-2.06-.94 2.06-2.06.94z\"/><path d=\"M17.41 7.96l-1.37-1.37c-.4-.4-.92-.59-1.43-.59-.52 0-1.04.2-1.43.59L10.3 9.45l-7.72 7.72c-.78.78-.78 2.05 0 2.83L4 21.41c.39.39.9.59 1.41.59.51 0 1.02-.2 1.41-.59l7.78-7.78 2.81-2.81c.8-.78.8-2.07 0-2.86zM5.41 20L4 18.59l7.72-7.72 1.47 1.35L5.41 20z\"/>\n",
              "  </svg>\n",
              "      </button>\n",
              "      \n",
              "  <style>\n",
              "    .colab-df-container {\n",
              "      display:flex;\n",
              "      flex-wrap:wrap;\n",
              "      gap: 12px;\n",
              "    }\n",
              "\n",
              "    .colab-df-convert {\n",
              "      background-color: #E8F0FE;\n",
              "      border: none;\n",
              "      border-radius: 50%;\n",
              "      cursor: pointer;\n",
              "      display: none;\n",
              "      fill: #1967D2;\n",
              "      height: 32px;\n",
              "      padding: 0 0 0 0;\n",
              "      width: 32px;\n",
              "    }\n",
              "\n",
              "    .colab-df-convert:hover {\n",
              "      background-color: #E2EBFA;\n",
              "      box-shadow: 0px 1px 2px rgba(60, 64, 67, 0.3), 0px 1px 3px 1px rgba(60, 64, 67, 0.15);\n",
              "      fill: #174EA6;\n",
              "    }\n",
              "\n",
              "    [theme=dark] .colab-df-convert {\n",
              "      background-color: #3B4455;\n",
              "      fill: #D2E3FC;\n",
              "    }\n",
              "\n",
              "    [theme=dark] .colab-df-convert:hover {\n",
              "      background-color: #434B5C;\n",
              "      box-shadow: 0px 1px 3px 1px rgba(0, 0, 0, 0.15);\n",
              "      filter: drop-shadow(0px 1px 2px rgba(0, 0, 0, 0.3));\n",
              "      fill: #FFFFFF;\n",
              "    }\n",
              "  </style>\n",
              "\n",
              "      <script>\n",
              "        const buttonEl =\n",
              "          document.querySelector('#df-0fde9823-2d98-4ba2-a015-c0fe072ca50c button.colab-df-convert');\n",
              "        buttonEl.style.display =\n",
              "          google.colab.kernel.accessAllowed ? 'block' : 'none';\n",
              "\n",
              "        async function convertToInteractive(key) {\n",
              "          const element = document.querySelector('#df-0fde9823-2d98-4ba2-a015-c0fe072ca50c');\n",
              "          const dataTable =\n",
              "            await google.colab.kernel.invokeFunction('convertToInteractive',\n",
              "                                                     [key], {});\n",
              "          if (!dataTable) return;\n",
              "\n",
              "          const docLinkHtml = 'Like what you see? Visit the ' +\n",
              "            '<a target=\"_blank\" href=https://colab.research.google.com/notebooks/data_table.ipynb>data table notebook</a>'\n",
              "            + ' to learn more about interactive tables.';\n",
              "          element.innerHTML = '';\n",
              "          dataTable['output_type'] = 'display_data';\n",
              "          await google.colab.output.renderOutput(dataTable, element);\n",
              "          const docLink = document.createElement('div');\n",
              "          docLink.innerHTML = docLinkHtml;\n",
              "          element.appendChild(docLink);\n",
              "        }\n",
              "      </script>\n",
              "    </div>\n",
              "  </div>\n",
              "  "
            ]
          },
          "metadata": {},
          "execution_count": 24
        }
      ]
    },
    {
      "cell_type": "markdown",
      "source": [
        "> Dapat dilihat value pada `RiskLevel` sudah dilakukan encoding dengan label encoding.\n",
        "\n",
        "> label high risk diubah ke  nilai 0, label low risk diubah ke  nilai 1, dan label med risk diubah ke  nilai 2 \n",
        "\n",
        "> Setelah dilakukan encoding pada fitur `RiskLevle` kemudian dilakukan split data menjadi X dan y."
      ],
      "metadata": {
        "id": "FIUy7vCtZkEA"
      }
    },
    {
      "cell_type": "markdown",
      "source": [
        "## SPLIT DATA"
      ],
      "metadata": {
        "id": "nMtYoJa0aK95"
      }
    },
    {
      "cell_type": "code",
      "source": [
        "# Split data menjadi X dan y\n",
        "\n",
        "X = data.drop([\"RiskLevel\"], axis=1)\n",
        "y = data[\"RiskLevel\"]"
      ],
      "metadata": {
        "id": "bv0gagaNaNVV"
      },
      "execution_count": 25,
      "outputs": []
    },
    {
      "cell_type": "code",
      "source": [
        "# Tampilkan X\n",
        "\n",
        "X.sample(5)"
      ],
      "metadata": {
        "colab": {
          "base_uri": "https://localhost:8080/",
          "height": 0
        },
        "id": "VZg8SQkCacPw",
        "outputId": "45716b26-11be-49c6-d9e3-62d25a889614"
      },
      "execution_count": 26,
      "outputs": [
        {
          "output_type": "execute_result",
          "data": {
            "text/plain": [
              "     Age  SystolicBP  DiastolicBP  BloodSugar  BodyTemp  HeartRate\n",
              "762   33         115           65         7.0      98.0         70\n",
              "443   32         120           90         6.8      98.0         70\n",
              "84    21          90           65         6.9      98.0         76\n",
              "760   21          90           60         6.9      98.0         86\n",
              "903   32         120           90         7.9      98.0         70"
            ],
            "text/html": [
              "\n",
              "  <div id=\"df-e5400f2c-3a8f-4cf8-8254-95e74179af41\">\n",
              "    <div class=\"colab-df-container\">\n",
              "      <div>\n",
              "<style scoped>\n",
              "    .dataframe tbody tr th:only-of-type {\n",
              "        vertical-align: middle;\n",
              "    }\n",
              "\n",
              "    .dataframe tbody tr th {\n",
              "        vertical-align: top;\n",
              "    }\n",
              "\n",
              "    .dataframe thead th {\n",
              "        text-align: right;\n",
              "    }\n",
              "</style>\n",
              "<table border=\"1\" class=\"dataframe\">\n",
              "  <thead>\n",
              "    <tr style=\"text-align: right;\">\n",
              "      <th></th>\n",
              "      <th>Age</th>\n",
              "      <th>SystolicBP</th>\n",
              "      <th>DiastolicBP</th>\n",
              "      <th>BloodSugar</th>\n",
              "      <th>BodyTemp</th>\n",
              "      <th>HeartRate</th>\n",
              "    </tr>\n",
              "  </thead>\n",
              "  <tbody>\n",
              "    <tr>\n",
              "      <th>762</th>\n",
              "      <td>33</td>\n",
              "      <td>115</td>\n",
              "      <td>65</td>\n",
              "      <td>7.0</td>\n",
              "      <td>98.0</td>\n",
              "      <td>70</td>\n",
              "    </tr>\n",
              "    <tr>\n",
              "      <th>443</th>\n",
              "      <td>32</td>\n",
              "      <td>120</td>\n",
              "      <td>90</td>\n",
              "      <td>6.8</td>\n",
              "      <td>98.0</td>\n",
              "      <td>70</td>\n",
              "    </tr>\n",
              "    <tr>\n",
              "      <th>84</th>\n",
              "      <td>21</td>\n",
              "      <td>90</td>\n",
              "      <td>65</td>\n",
              "      <td>6.9</td>\n",
              "      <td>98.0</td>\n",
              "      <td>76</td>\n",
              "    </tr>\n",
              "    <tr>\n",
              "      <th>760</th>\n",
              "      <td>21</td>\n",
              "      <td>90</td>\n",
              "      <td>60</td>\n",
              "      <td>6.9</td>\n",
              "      <td>98.0</td>\n",
              "      <td>86</td>\n",
              "    </tr>\n",
              "    <tr>\n",
              "      <th>903</th>\n",
              "      <td>32</td>\n",
              "      <td>120</td>\n",
              "      <td>90</td>\n",
              "      <td>7.9</td>\n",
              "      <td>98.0</td>\n",
              "      <td>70</td>\n",
              "    </tr>\n",
              "  </tbody>\n",
              "</table>\n",
              "</div>\n",
              "      <button class=\"colab-df-convert\" onclick=\"convertToInteractive('df-e5400f2c-3a8f-4cf8-8254-95e74179af41')\"\n",
              "              title=\"Convert this dataframe to an interactive table.\"\n",
              "              style=\"display:none;\">\n",
              "        \n",
              "  <svg xmlns=\"http://www.w3.org/2000/svg\" height=\"24px\"viewBox=\"0 0 24 24\"\n",
              "       width=\"24px\">\n",
              "    <path d=\"M0 0h24v24H0V0z\" fill=\"none\"/>\n",
              "    <path d=\"M18.56 5.44l.94 2.06.94-2.06 2.06-.94-2.06-.94-.94-2.06-.94 2.06-2.06.94zm-11 1L8.5 8.5l.94-2.06 2.06-.94-2.06-.94L8.5 2.5l-.94 2.06-2.06.94zm10 10l.94 2.06.94-2.06 2.06-.94-2.06-.94-.94-2.06-.94 2.06-2.06.94z\"/><path d=\"M17.41 7.96l-1.37-1.37c-.4-.4-.92-.59-1.43-.59-.52 0-1.04.2-1.43.59L10.3 9.45l-7.72 7.72c-.78.78-.78 2.05 0 2.83L4 21.41c.39.39.9.59 1.41.59.51 0 1.02-.2 1.41-.59l7.78-7.78 2.81-2.81c.8-.78.8-2.07 0-2.86zM5.41 20L4 18.59l7.72-7.72 1.47 1.35L5.41 20z\"/>\n",
              "  </svg>\n",
              "      </button>\n",
              "      \n",
              "  <style>\n",
              "    .colab-df-container {\n",
              "      display:flex;\n",
              "      flex-wrap:wrap;\n",
              "      gap: 12px;\n",
              "    }\n",
              "\n",
              "    .colab-df-convert {\n",
              "      background-color: #E8F0FE;\n",
              "      border: none;\n",
              "      border-radius: 50%;\n",
              "      cursor: pointer;\n",
              "      display: none;\n",
              "      fill: #1967D2;\n",
              "      height: 32px;\n",
              "      padding: 0 0 0 0;\n",
              "      width: 32px;\n",
              "    }\n",
              "\n",
              "    .colab-df-convert:hover {\n",
              "      background-color: #E2EBFA;\n",
              "      box-shadow: 0px 1px 2px rgba(60, 64, 67, 0.3), 0px 1px 3px 1px rgba(60, 64, 67, 0.15);\n",
              "      fill: #174EA6;\n",
              "    }\n",
              "\n",
              "    [theme=dark] .colab-df-convert {\n",
              "      background-color: #3B4455;\n",
              "      fill: #D2E3FC;\n",
              "    }\n",
              "\n",
              "    [theme=dark] .colab-df-convert:hover {\n",
              "      background-color: #434B5C;\n",
              "      box-shadow: 0px 1px 3px 1px rgba(0, 0, 0, 0.15);\n",
              "      filter: drop-shadow(0px 1px 2px rgba(0, 0, 0, 0.3));\n",
              "      fill: #FFFFFF;\n",
              "    }\n",
              "  </style>\n",
              "\n",
              "      <script>\n",
              "        const buttonEl =\n",
              "          document.querySelector('#df-e5400f2c-3a8f-4cf8-8254-95e74179af41 button.colab-df-convert');\n",
              "        buttonEl.style.display =\n",
              "          google.colab.kernel.accessAllowed ? 'block' : 'none';\n",
              "\n",
              "        async function convertToInteractive(key) {\n",
              "          const element = document.querySelector('#df-e5400f2c-3a8f-4cf8-8254-95e74179af41');\n",
              "          const dataTable =\n",
              "            await google.colab.kernel.invokeFunction('convertToInteractive',\n",
              "                                                     [key], {});\n",
              "          if (!dataTable) return;\n",
              "\n",
              "          const docLinkHtml = 'Like what you see? Visit the ' +\n",
              "            '<a target=\"_blank\" href=https://colab.research.google.com/notebooks/data_table.ipynb>data table notebook</a>'\n",
              "            + ' to learn more about interactive tables.';\n",
              "          element.innerHTML = '';\n",
              "          dataTable['output_type'] = 'display_data';\n",
              "          await google.colab.output.renderOutput(dataTable, element);\n",
              "          const docLink = document.createElement('div');\n",
              "          docLink.innerHTML = docLinkHtml;\n",
              "          element.appendChild(docLink);\n",
              "        }\n",
              "      </script>\n",
              "    </div>\n",
              "  </div>\n",
              "  "
            ]
          },
          "metadata": {},
          "execution_count": 26
        }
      ]
    },
    {
      "cell_type": "markdown",
      "source": [
        "> Terlihat bahwa data sample dari X sudah dipisahkan dari fitur `RiskLevel` yang dijadikan target atau y."
      ],
      "metadata": {
        "id": "5h2IO4U-ais9"
      }
    },
    {
      "cell_type": "code",
      "source": [
        "# split data train dan data test\n",
        "\n",
        "X_train, X_test,y_train,y_test =train_test_split(X,y, test_size=0.3, random_state=66)\n",
        "print(\"X_train size :\" ,X_train.shape)\n",
        "print(\"X_test size :\" ,X_test.shape)"
      ],
      "metadata": {
        "colab": {
          "base_uri": "https://localhost:8080/"
        },
        "id": "o_kL8ZP2a08w",
        "outputId": "58b99437-91d8-4024-fd28-4e62e5ba8a69"
      },
      "execution_count": 27,
      "outputs": [
        {
          "output_type": "stream",
          "name": "stdout",
          "text": [
            "X_train size : (708, 6)\n",
            "X_test size : (304, 6)\n"
          ]
        }
      ]
    },
    {
      "cell_type": "code",
      "source": [
        "X_train.head()"
      ],
      "metadata": {
        "colab": {
          "base_uri": "https://localhost:8080/",
          "height": 0
        },
        "id": "7jyvJhFRbhrY",
        "outputId": "85ff1774-6a65-4cbe-bcb8-098bbad8dd00"
      },
      "execution_count": 28,
      "outputs": [
        {
          "output_type": "execute_result",
          "data": {
            "text/plain": [
              "     Age  SystolicBP  DiastolicBP  BloodSugar  BodyTemp  HeartRate\n",
              "846   36         120           90        7.00      98.0         82\n",
              "850   12         100           50        6.40      98.0         70\n",
              "459   32         120           90        6.80      98.0         70\n",
              "5     23         140           80        7.01      98.0         70\n",
              "101   25         120           80        6.80      98.0         66"
            ],
            "text/html": [
              "\n",
              "  <div id=\"df-cc5ba34f-7ca3-4513-b022-9eb19de48616\">\n",
              "    <div class=\"colab-df-container\">\n",
              "      <div>\n",
              "<style scoped>\n",
              "    .dataframe tbody tr th:only-of-type {\n",
              "        vertical-align: middle;\n",
              "    }\n",
              "\n",
              "    .dataframe tbody tr th {\n",
              "        vertical-align: top;\n",
              "    }\n",
              "\n",
              "    .dataframe thead th {\n",
              "        text-align: right;\n",
              "    }\n",
              "</style>\n",
              "<table border=\"1\" class=\"dataframe\">\n",
              "  <thead>\n",
              "    <tr style=\"text-align: right;\">\n",
              "      <th></th>\n",
              "      <th>Age</th>\n",
              "      <th>SystolicBP</th>\n",
              "      <th>DiastolicBP</th>\n",
              "      <th>BloodSugar</th>\n",
              "      <th>BodyTemp</th>\n",
              "      <th>HeartRate</th>\n",
              "    </tr>\n",
              "  </thead>\n",
              "  <tbody>\n",
              "    <tr>\n",
              "      <th>846</th>\n",
              "      <td>36</td>\n",
              "      <td>120</td>\n",
              "      <td>90</td>\n",
              "      <td>7.00</td>\n",
              "      <td>98.0</td>\n",
              "      <td>82</td>\n",
              "    </tr>\n",
              "    <tr>\n",
              "      <th>850</th>\n",
              "      <td>12</td>\n",
              "      <td>100</td>\n",
              "      <td>50</td>\n",
              "      <td>6.40</td>\n",
              "      <td>98.0</td>\n",
              "      <td>70</td>\n",
              "    </tr>\n",
              "    <tr>\n",
              "      <th>459</th>\n",
              "      <td>32</td>\n",
              "      <td>120</td>\n",
              "      <td>90</td>\n",
              "      <td>6.80</td>\n",
              "      <td>98.0</td>\n",
              "      <td>70</td>\n",
              "    </tr>\n",
              "    <tr>\n",
              "      <th>5</th>\n",
              "      <td>23</td>\n",
              "      <td>140</td>\n",
              "      <td>80</td>\n",
              "      <td>7.01</td>\n",
              "      <td>98.0</td>\n",
              "      <td>70</td>\n",
              "    </tr>\n",
              "    <tr>\n",
              "      <th>101</th>\n",
              "      <td>25</td>\n",
              "      <td>120</td>\n",
              "      <td>80</td>\n",
              "      <td>6.80</td>\n",
              "      <td>98.0</td>\n",
              "      <td>66</td>\n",
              "    </tr>\n",
              "  </tbody>\n",
              "</table>\n",
              "</div>\n",
              "      <button class=\"colab-df-convert\" onclick=\"convertToInteractive('df-cc5ba34f-7ca3-4513-b022-9eb19de48616')\"\n",
              "              title=\"Convert this dataframe to an interactive table.\"\n",
              "              style=\"display:none;\">\n",
              "        \n",
              "  <svg xmlns=\"http://www.w3.org/2000/svg\" height=\"24px\"viewBox=\"0 0 24 24\"\n",
              "       width=\"24px\">\n",
              "    <path d=\"M0 0h24v24H0V0z\" fill=\"none\"/>\n",
              "    <path d=\"M18.56 5.44l.94 2.06.94-2.06 2.06-.94-2.06-.94-.94-2.06-.94 2.06-2.06.94zm-11 1L8.5 8.5l.94-2.06 2.06-.94-2.06-.94L8.5 2.5l-.94 2.06-2.06.94zm10 10l.94 2.06.94-2.06 2.06-.94-2.06-.94-.94-2.06-.94 2.06-2.06.94z\"/><path d=\"M17.41 7.96l-1.37-1.37c-.4-.4-.92-.59-1.43-.59-.52 0-1.04.2-1.43.59L10.3 9.45l-7.72 7.72c-.78.78-.78 2.05 0 2.83L4 21.41c.39.39.9.59 1.41.59.51 0 1.02-.2 1.41-.59l7.78-7.78 2.81-2.81c.8-.78.8-2.07 0-2.86zM5.41 20L4 18.59l7.72-7.72 1.47 1.35L5.41 20z\"/>\n",
              "  </svg>\n",
              "      </button>\n",
              "      \n",
              "  <style>\n",
              "    .colab-df-container {\n",
              "      display:flex;\n",
              "      flex-wrap:wrap;\n",
              "      gap: 12px;\n",
              "    }\n",
              "\n",
              "    .colab-df-convert {\n",
              "      background-color: #E8F0FE;\n",
              "      border: none;\n",
              "      border-radius: 50%;\n",
              "      cursor: pointer;\n",
              "      display: none;\n",
              "      fill: #1967D2;\n",
              "      height: 32px;\n",
              "      padding: 0 0 0 0;\n",
              "      width: 32px;\n",
              "    }\n",
              "\n",
              "    .colab-df-convert:hover {\n",
              "      background-color: #E2EBFA;\n",
              "      box-shadow: 0px 1px 2px rgba(60, 64, 67, 0.3), 0px 1px 3px 1px rgba(60, 64, 67, 0.15);\n",
              "      fill: #174EA6;\n",
              "    }\n",
              "\n",
              "    [theme=dark] .colab-df-convert {\n",
              "      background-color: #3B4455;\n",
              "      fill: #D2E3FC;\n",
              "    }\n",
              "\n",
              "    [theme=dark] .colab-df-convert:hover {\n",
              "      background-color: #434B5C;\n",
              "      box-shadow: 0px 1px 3px 1px rgba(0, 0, 0, 0.15);\n",
              "      filter: drop-shadow(0px 1px 2px rgba(0, 0, 0, 0.3));\n",
              "      fill: #FFFFFF;\n",
              "    }\n",
              "  </style>\n",
              "\n",
              "      <script>\n",
              "        const buttonEl =\n",
              "          document.querySelector('#df-cc5ba34f-7ca3-4513-b022-9eb19de48616 button.colab-df-convert');\n",
              "        buttonEl.style.display =\n",
              "          google.colab.kernel.accessAllowed ? 'block' : 'none';\n",
              "\n",
              "        async function convertToInteractive(key) {\n",
              "          const element = document.querySelector('#df-cc5ba34f-7ca3-4513-b022-9eb19de48616');\n",
              "          const dataTable =\n",
              "            await google.colab.kernel.invokeFunction('convertToInteractive',\n",
              "                                                     [key], {});\n",
              "          if (!dataTable) return;\n",
              "\n",
              "          const docLinkHtml = 'Like what you see? Visit the ' +\n",
              "            '<a target=\"_blank\" href=https://colab.research.google.com/notebooks/data_table.ipynb>data table notebook</a>'\n",
              "            + ' to learn more about interactive tables.';\n",
              "          element.innerHTML = '';\n",
              "          dataTable['output_type'] = 'display_data';\n",
              "          await google.colab.output.renderOutput(dataTable, element);\n",
              "          const docLink = document.createElement('div');\n",
              "          docLink.innerHTML = docLinkHtml;\n",
              "          element.appendChild(docLink);\n",
              "        }\n",
              "      </script>\n",
              "    </div>\n",
              "  </div>\n",
              "  "
            ]
          },
          "metadata": {},
          "execution_count": 28
        }
      ]
    },
    {
      "cell_type": "markdown",
      "source": [
        "> Telah dilakukan split data menjadi data train data test dengan perbandingan antara train dan test 80:20 setelah itu diacak dengan nilai random_state=66."
      ],
      "metadata": {
        "id": "cFTYMxFsbT8D"
      }
    },
    {
      "cell_type": "markdown",
      "source": [
        "## HANDLING OUTLIERS"
      ],
      "metadata": {
        "id": "PFBXEgowcyaD"
      }
    },
    {
      "cell_type": "markdown",
      "source": [
        "> Akan dilakukan pengecekan nilai skew untuk melihat adanya outliers pada X_train."
      ],
      "metadata": {
        "id": "LtvS_uOwc4Qk"
      }
    },
    {
      "cell_type": "code",
      "source": [
        "X_train.skew()"
      ],
      "metadata": {
        "colab": {
          "base_uri": "https://localhost:8080/"
        },
        "id": "5jBt6Jtbbw82",
        "outputId": "291c09c8-95dc-4062-b55a-8102076a4968"
      },
      "execution_count": 29,
      "outputs": [
        {
          "output_type": "execute_result",
          "data": {
            "text/plain": [
              "Age            0.756407\n",
              "SystolicBP    -0.210959\n",
              "DiastolicBP   -0.072078\n",
              "BloodSugar     1.886622\n",
              "BodyTemp       1.740923\n",
              "HeartRate      0.048908\n",
              "dtype: float64"
            ]
          },
          "metadata": {},
          "execution_count": 29
        }
      ]
    },
    {
      "cell_type": "markdown",
      "source": [
        "> Dapat dilihat bahwa data X_train memiliki outliers namun dengan nilai yang kecil.\n",
        "\n",
        "> Outliers tidak akan dihapus dengan alasan untuk menjaga keaslian data, distribusi data yng normal dan juga nilai skew yang kecil tidak berpengaruh pada data."
      ],
      "metadata": {
        "id": "toDhhv-VdEmz"
      }
    },
    {
      "cell_type": "markdown",
      "source": [
        "## NORMALISASI DATA"
      ],
      "metadata": {
        "id": "tzrMpoZ3dVCB"
      }
    },
    {
      "cell_type": "code",
      "source": [
        "# Melakukan normalisasi menggunakan MinMaxScaler \n",
        "\n",
        "scaler=MinMaxScaler()\n",
        "scaler.fit(X_train)\n",
        "\n",
        "X_train_final = scaler.transform(X_train)\n",
        "X_test_final =  scaler.transform(X_test)"
      ],
      "metadata": {
        "id": "uNX_ZtT5drmz"
      },
      "execution_count": 30,
      "outputs": []
    },
    {
      "cell_type": "code",
      "source": [
        "# Tampilkan X_train_final yang sudah discale\n",
        "\n",
        "X_train_final"
      ],
      "metadata": {
        "colab": {
          "base_uri": "https://localhost:8080/"
        },
        "id": "t-2OlEzVfh6F",
        "outputId": "a96ff988-1f94-4594-f73f-2116dc72309f"
      },
      "execution_count": 31,
      "outputs": [
        {
          "output_type": "execute_result",
          "data": {
            "text/plain": [
              "array([[0.46428571, 0.55555556, 0.80392157, 0.07692308, 0.        ,\n",
              "        0.73333333],\n",
              "       [0.03571429, 0.33333333, 0.01960784, 0.03076923, 0.        ,\n",
              "        0.33333333],\n",
              "       [0.39285714, 0.55555556, 0.80392157, 0.06153846, 0.        ,\n",
              "        0.33333333],\n",
              "       ...,\n",
              "       [0.44642857, 0.33333333, 0.41176471, 0.38461538, 0.        ,\n",
              "        0.        ],\n",
              "       [0.23214286, 0.33333333, 0.70588235, 0.11538462, 0.        ,\n",
              "        0.2       ],\n",
              "       [0.53571429, 0.77777778, 1.        , 0.92307692, 0.        ,\n",
              "        1.        ]])"
            ]
          },
          "metadata": {},
          "execution_count": 31
        }
      ]
    },
    {
      "cell_type": "code",
      "source": [
        "# Tampilkan X_test_final yang sudah discale\n",
        "\n",
        "X_test_final"
      ],
      "metadata": {
        "colab": {
          "base_uri": "https://localhost:8080/"
        },
        "id": "0mOQgcSAfuJC",
        "outputId": "077e859a-43bd-4462-dc6a-dea320af873c"
      },
      "execution_count": 32,
      "outputs": [
        {
          "output_type": "execute_result",
          "data": {
            "text/plain": [
              "array([[0.125     , 0.16666667, 0.21568627, 0.23076923, 0.8       ,\n",
              "        0.86666667],\n",
              "       [0.53571429, 1.        , 1.        , 1.        , 0.        ,\n",
              "        0.56666667],\n",
              "       [0.08928571, 0.55555556, 0.60784314, 0.11538462, 0.        ,\n",
              "        0.33333333],\n",
              "       ...,\n",
              "       [0.80357143, 0.33333333, 0.31372549, 0.13846154, 0.        ,\n",
              "        0.2       ],\n",
              "       [0.16071429, 0.55555556, 0.60784314, 0.07692308, 0.        ,\n",
              "        0.33333333],\n",
              "       [1.07142857, 0.16666667, 0.21568627, 0.06923077, 0.8       ,\n",
              "        0.33333333]])"
            ]
          },
          "metadata": {},
          "execution_count": 32
        }
      ]
    },
    {
      "cell_type": "markdown",
      "source": [
        "# MODEL DEFINITION"
      ],
      "metadata": {
        "id": "5wELnKM4vYR9"
      }
    },
    {
      "cell_type": "code",
      "source": [
        "# Pipeline untuk tiap model yang dibuat\n",
        "\n",
        "logreg_pipe = Pipeline([\n",
        "    ('logreg', LogisticRegression())\n",
        "])\n",
        "\n",
        "rf_pipe = Pipeline([\n",
        "    ('rf', RandomForestClassifier())\n",
        "])\n",
        "\n",
        "svc_pipe = Pipeline([\n",
        "    ('svc', SVC(probability=True))\n",
        "])\n",
        "\n",
        "dt_pipe = Pipeline([\n",
        "    ('dt', DecisionTreeClassifier())\n",
        "])\n",
        "\n",
        "knn_pipe = Pipeline([\n",
        "    ('knn', KNeighborsClassifier())\n",
        "])"
      ],
      "metadata": {
        "id": "yfPJaza8vYDE"
      },
      "execution_count": 33,
      "outputs": []
    },
    {
      "cell_type": "markdown",
      "source": [
        "# MODEL TRAINING"
      ],
      "metadata": {
        "id": "u_pFhtn2XLKD"
      }
    },
    {
      "cell_type": "code",
      "source": [
        "# Hyperparameter tuning tiap model\n",
        "\n",
        "logreg_param_grid = {\n",
        "    'logreg__C': [0.1, 1, 10, 15, 30],\n",
        "    'logreg__penalty': ['l2'], \n",
        "    'logreg__solver' : ['lbfgs', 'liblinear', 'newton-cg', 'newton-cholesky']\n",
        "}\n",
        "\n",
        "rf_param_grid = {\n",
        "    'rf__n_estimators': [100, 200, 300],\n",
        "    'rf__max_depth': [None, 5, 10, 15, 20, 25]\n",
        "}\n",
        "\n",
        "svc_param_grid = {\n",
        "    'svc__C': [0.1, 1, 3, 5, 7, 10, 15, 30],\n",
        "    'svc__kernel': ['linear', 'rbf', 'sigmoid', 'poly']\n",
        "}\n",
        "\n",
        "dt_param_grid = {\n",
        "    'dt__max_depth': [5, 10, 15, 30, 50],\n",
        "    'dt__min_samples_split': [2, 5, 10, 15],\n",
        "    'dt__min_samples_leaf': [1, 2, 4, 6],\n",
        "}\n",
        "\n",
        "knn_param_grid = {\n",
        "    'knn__n_neighbors' : [3, 5, 7, 9, 11, 13, 15],\n",
        "    'knn__weights': ['uniform', 'distance'],\n",
        "    'knn__algorithm': ['ball_tree', 'kd_tree', 'brute'],\n",
        "    'knn__leaf_size': [1, 5, 10, 15, 20, 25, 30],\n",
        "}"
      ],
      "metadata": {
        "id": "ZmMnKubgv1yn"
      },
      "execution_count": 34,
      "outputs": []
    },
    {
      "cell_type": "code",
      "source": [
        "# Menerapkan cross validation dengan 5 fold dan Hyperparameter terbaik pada model\n",
        "\n",
        "logreg_grid_search = GridSearchCV(logreg_pipe, param_grid=logreg_param_grid, error_score='raise')\n",
        "logreg_grid_search.fit(X_train_final, y_train)"
      ],
      "metadata": {
        "colab": {
          "base_uri": "https://localhost:8080/",
          "height": 118
        },
        "id": "jfSZbAxXv5EA",
        "outputId": "a7a5cfec-ab21-4723-a954-265aa1d34288"
      },
      "execution_count": 35,
      "outputs": [
        {
          "output_type": "execute_result",
          "data": {
            "text/plain": [
              "GridSearchCV(error_score='raise',\n",
              "             estimator=Pipeline(steps=[('logreg', LogisticRegression())]),\n",
              "             param_grid={'logreg__C': [0.1, 1, 10, 15, 30],\n",
              "                         'logreg__penalty': ['l2'],\n",
              "                         'logreg__solver': ['lbfgs', 'liblinear', 'newton-cg',\n",
              "                                            'newton-cholesky']})"
            ],
            "text/html": [
              "<style>#sk-container-id-1 {color: black;background-color: white;}#sk-container-id-1 pre{padding: 0;}#sk-container-id-1 div.sk-toggleable {background-color: white;}#sk-container-id-1 label.sk-toggleable__label {cursor: pointer;display: block;width: 100%;margin-bottom: 0;padding: 0.3em;box-sizing: border-box;text-align: center;}#sk-container-id-1 label.sk-toggleable__label-arrow:before {content: \"▸\";float: left;margin-right: 0.25em;color: #696969;}#sk-container-id-1 label.sk-toggleable__label-arrow:hover:before {color: black;}#sk-container-id-1 div.sk-estimator:hover label.sk-toggleable__label-arrow:before {color: black;}#sk-container-id-1 div.sk-toggleable__content {max-height: 0;max-width: 0;overflow: hidden;text-align: left;background-color: #f0f8ff;}#sk-container-id-1 div.sk-toggleable__content pre {margin: 0.2em;color: black;border-radius: 0.25em;background-color: #f0f8ff;}#sk-container-id-1 input.sk-toggleable__control:checked~div.sk-toggleable__content {max-height: 200px;max-width: 100%;overflow: auto;}#sk-container-id-1 input.sk-toggleable__control:checked~label.sk-toggleable__label-arrow:before {content: \"▾\";}#sk-container-id-1 div.sk-estimator input.sk-toggleable__control:checked~label.sk-toggleable__label {background-color: #d4ebff;}#sk-container-id-1 div.sk-label input.sk-toggleable__control:checked~label.sk-toggleable__label {background-color: #d4ebff;}#sk-container-id-1 input.sk-hidden--visually {border: 0;clip: rect(1px 1px 1px 1px);clip: rect(1px, 1px, 1px, 1px);height: 1px;margin: -1px;overflow: hidden;padding: 0;position: absolute;width: 1px;}#sk-container-id-1 div.sk-estimator {font-family: monospace;background-color: #f0f8ff;border: 1px dotted black;border-radius: 0.25em;box-sizing: border-box;margin-bottom: 0.5em;}#sk-container-id-1 div.sk-estimator:hover {background-color: #d4ebff;}#sk-container-id-1 div.sk-parallel-item::after {content: \"\";width: 100%;border-bottom: 1px solid gray;flex-grow: 1;}#sk-container-id-1 div.sk-label:hover label.sk-toggleable__label {background-color: #d4ebff;}#sk-container-id-1 div.sk-serial::before {content: \"\";position: absolute;border-left: 1px solid gray;box-sizing: border-box;top: 0;bottom: 0;left: 50%;z-index: 0;}#sk-container-id-1 div.sk-serial {display: flex;flex-direction: column;align-items: center;background-color: white;padding-right: 0.2em;padding-left: 0.2em;position: relative;}#sk-container-id-1 div.sk-item {position: relative;z-index: 1;}#sk-container-id-1 div.sk-parallel {display: flex;align-items: stretch;justify-content: center;background-color: white;position: relative;}#sk-container-id-1 div.sk-item::before, #sk-container-id-1 div.sk-parallel-item::before {content: \"\";position: absolute;border-left: 1px solid gray;box-sizing: border-box;top: 0;bottom: 0;left: 50%;z-index: -1;}#sk-container-id-1 div.sk-parallel-item {display: flex;flex-direction: column;z-index: 1;position: relative;background-color: white;}#sk-container-id-1 div.sk-parallel-item:first-child::after {align-self: flex-end;width: 50%;}#sk-container-id-1 div.sk-parallel-item:last-child::after {align-self: flex-start;width: 50%;}#sk-container-id-1 div.sk-parallel-item:only-child::after {width: 0;}#sk-container-id-1 div.sk-dashed-wrapped {border: 1px dashed gray;margin: 0 0.4em 0.5em 0.4em;box-sizing: border-box;padding-bottom: 0.4em;background-color: white;}#sk-container-id-1 div.sk-label label {font-family: monospace;font-weight: bold;display: inline-block;line-height: 1.2em;}#sk-container-id-1 div.sk-label-container {text-align: center;}#sk-container-id-1 div.sk-container {/* jupyter's `normalize.less` sets `[hidden] { display: none; }` but bootstrap.min.css set `[hidden] { display: none !important; }` so we also need the `!important` here to be able to override the default hidden behavior on the sphinx rendered scikit-learn.org. See: https://github.com/scikit-learn/scikit-learn/issues/21755 */display: inline-block !important;position: relative;}#sk-container-id-1 div.sk-text-repr-fallback {display: none;}</style><div id=\"sk-container-id-1\" class=\"sk-top-container\"><div class=\"sk-text-repr-fallback\"><pre>GridSearchCV(error_score=&#x27;raise&#x27;,\n",
              "             estimator=Pipeline(steps=[(&#x27;logreg&#x27;, LogisticRegression())]),\n",
              "             param_grid={&#x27;logreg__C&#x27;: [0.1, 1, 10, 15, 30],\n",
              "                         &#x27;logreg__penalty&#x27;: [&#x27;l2&#x27;],\n",
              "                         &#x27;logreg__solver&#x27;: [&#x27;lbfgs&#x27;, &#x27;liblinear&#x27;, &#x27;newton-cg&#x27;,\n",
              "                                            &#x27;newton-cholesky&#x27;]})</pre><b>In a Jupyter environment, please rerun this cell to show the HTML representation or trust the notebook. <br />On GitHub, the HTML representation is unable to render, please try loading this page with nbviewer.org.</b></div><div class=\"sk-container\" hidden><div class=\"sk-item sk-dashed-wrapped\"><div class=\"sk-label-container\"><div class=\"sk-label sk-toggleable\"><input class=\"sk-toggleable__control sk-hidden--visually\" id=\"sk-estimator-id-1\" type=\"checkbox\" ><label for=\"sk-estimator-id-1\" class=\"sk-toggleable__label sk-toggleable__label-arrow\">GridSearchCV</label><div class=\"sk-toggleable__content\"><pre>GridSearchCV(error_score=&#x27;raise&#x27;,\n",
              "             estimator=Pipeline(steps=[(&#x27;logreg&#x27;, LogisticRegression())]),\n",
              "             param_grid={&#x27;logreg__C&#x27;: [0.1, 1, 10, 15, 30],\n",
              "                         &#x27;logreg__penalty&#x27;: [&#x27;l2&#x27;],\n",
              "                         &#x27;logreg__solver&#x27;: [&#x27;lbfgs&#x27;, &#x27;liblinear&#x27;, &#x27;newton-cg&#x27;,\n",
              "                                            &#x27;newton-cholesky&#x27;]})</pre></div></div></div><div class=\"sk-parallel\"><div class=\"sk-parallel-item\"><div class=\"sk-item\"><div class=\"sk-label-container\"><div class=\"sk-label sk-toggleable\"><input class=\"sk-toggleable__control sk-hidden--visually\" id=\"sk-estimator-id-2\" type=\"checkbox\" ><label for=\"sk-estimator-id-2\" class=\"sk-toggleable__label sk-toggleable__label-arrow\">estimator: Pipeline</label><div class=\"sk-toggleable__content\"><pre>Pipeline(steps=[(&#x27;logreg&#x27;, LogisticRegression())])</pre></div></div></div><div class=\"sk-serial\"><div class=\"sk-item\"><div class=\"sk-serial\"><div class=\"sk-item\"><div class=\"sk-estimator sk-toggleable\"><input class=\"sk-toggleable__control sk-hidden--visually\" id=\"sk-estimator-id-3\" type=\"checkbox\" ><label for=\"sk-estimator-id-3\" class=\"sk-toggleable__label sk-toggleable__label-arrow\">LogisticRegression</label><div class=\"sk-toggleable__content\"><pre>LogisticRegression()</pre></div></div></div></div></div></div></div></div></div></div></div></div>"
            ]
          },
          "metadata": {},
          "execution_count": 35
        }
      ]
    },
    {
      "cell_type": "code",
      "source": [
        "# Menerapkan cross validation dengan 5 fold dan Hyperparameter terbaik pada model\n",
        "\n",
        "rf_grid_search = GridSearchCV(rf_pipe, param_grid=rf_param_grid)\n",
        "rf_grid_search.fit(X_train_final, y_train)"
      ],
      "metadata": {
        "colab": {
          "base_uri": "https://localhost:8080/",
          "height": 118
        },
        "id": "Fb8XUmeuv8Vv",
        "outputId": "3a382ea6-c27c-4350-8736-8a0e4c83a478"
      },
      "execution_count": 36,
      "outputs": [
        {
          "output_type": "execute_result",
          "data": {
            "text/plain": [
              "GridSearchCV(estimator=Pipeline(steps=[('rf', RandomForestClassifier())]),\n",
              "             param_grid={'rf__max_depth': [None, 5, 10, 15, 20, 25],\n",
              "                         'rf__n_estimators': [100, 200, 300]})"
            ],
            "text/html": [
              "<style>#sk-container-id-2 {color: black;background-color: white;}#sk-container-id-2 pre{padding: 0;}#sk-container-id-2 div.sk-toggleable {background-color: white;}#sk-container-id-2 label.sk-toggleable__label {cursor: pointer;display: block;width: 100%;margin-bottom: 0;padding: 0.3em;box-sizing: border-box;text-align: center;}#sk-container-id-2 label.sk-toggleable__label-arrow:before {content: \"▸\";float: left;margin-right: 0.25em;color: #696969;}#sk-container-id-2 label.sk-toggleable__label-arrow:hover:before {color: black;}#sk-container-id-2 div.sk-estimator:hover label.sk-toggleable__label-arrow:before {color: black;}#sk-container-id-2 div.sk-toggleable__content {max-height: 0;max-width: 0;overflow: hidden;text-align: left;background-color: #f0f8ff;}#sk-container-id-2 div.sk-toggleable__content pre {margin: 0.2em;color: black;border-radius: 0.25em;background-color: #f0f8ff;}#sk-container-id-2 input.sk-toggleable__control:checked~div.sk-toggleable__content {max-height: 200px;max-width: 100%;overflow: auto;}#sk-container-id-2 input.sk-toggleable__control:checked~label.sk-toggleable__label-arrow:before {content: \"▾\";}#sk-container-id-2 div.sk-estimator input.sk-toggleable__control:checked~label.sk-toggleable__label {background-color: #d4ebff;}#sk-container-id-2 div.sk-label input.sk-toggleable__control:checked~label.sk-toggleable__label {background-color: #d4ebff;}#sk-container-id-2 input.sk-hidden--visually {border: 0;clip: rect(1px 1px 1px 1px);clip: rect(1px, 1px, 1px, 1px);height: 1px;margin: -1px;overflow: hidden;padding: 0;position: absolute;width: 1px;}#sk-container-id-2 div.sk-estimator {font-family: monospace;background-color: #f0f8ff;border: 1px dotted black;border-radius: 0.25em;box-sizing: border-box;margin-bottom: 0.5em;}#sk-container-id-2 div.sk-estimator:hover {background-color: #d4ebff;}#sk-container-id-2 div.sk-parallel-item::after {content: \"\";width: 100%;border-bottom: 1px solid gray;flex-grow: 1;}#sk-container-id-2 div.sk-label:hover label.sk-toggleable__label {background-color: #d4ebff;}#sk-container-id-2 div.sk-serial::before {content: \"\";position: absolute;border-left: 1px solid gray;box-sizing: border-box;top: 0;bottom: 0;left: 50%;z-index: 0;}#sk-container-id-2 div.sk-serial {display: flex;flex-direction: column;align-items: center;background-color: white;padding-right: 0.2em;padding-left: 0.2em;position: relative;}#sk-container-id-2 div.sk-item {position: relative;z-index: 1;}#sk-container-id-2 div.sk-parallel {display: flex;align-items: stretch;justify-content: center;background-color: white;position: relative;}#sk-container-id-2 div.sk-item::before, #sk-container-id-2 div.sk-parallel-item::before {content: \"\";position: absolute;border-left: 1px solid gray;box-sizing: border-box;top: 0;bottom: 0;left: 50%;z-index: -1;}#sk-container-id-2 div.sk-parallel-item {display: flex;flex-direction: column;z-index: 1;position: relative;background-color: white;}#sk-container-id-2 div.sk-parallel-item:first-child::after {align-self: flex-end;width: 50%;}#sk-container-id-2 div.sk-parallel-item:last-child::after {align-self: flex-start;width: 50%;}#sk-container-id-2 div.sk-parallel-item:only-child::after {width: 0;}#sk-container-id-2 div.sk-dashed-wrapped {border: 1px dashed gray;margin: 0 0.4em 0.5em 0.4em;box-sizing: border-box;padding-bottom: 0.4em;background-color: white;}#sk-container-id-2 div.sk-label label {font-family: monospace;font-weight: bold;display: inline-block;line-height: 1.2em;}#sk-container-id-2 div.sk-label-container {text-align: center;}#sk-container-id-2 div.sk-container {/* jupyter's `normalize.less` sets `[hidden] { display: none; }` but bootstrap.min.css set `[hidden] { display: none !important; }` so we also need the `!important` here to be able to override the default hidden behavior on the sphinx rendered scikit-learn.org. See: https://github.com/scikit-learn/scikit-learn/issues/21755 */display: inline-block !important;position: relative;}#sk-container-id-2 div.sk-text-repr-fallback {display: none;}</style><div id=\"sk-container-id-2\" class=\"sk-top-container\"><div class=\"sk-text-repr-fallback\"><pre>GridSearchCV(estimator=Pipeline(steps=[(&#x27;rf&#x27;, RandomForestClassifier())]),\n",
              "             param_grid={&#x27;rf__max_depth&#x27;: [None, 5, 10, 15, 20, 25],\n",
              "                         &#x27;rf__n_estimators&#x27;: [100, 200, 300]})</pre><b>In a Jupyter environment, please rerun this cell to show the HTML representation or trust the notebook. <br />On GitHub, the HTML representation is unable to render, please try loading this page with nbviewer.org.</b></div><div class=\"sk-container\" hidden><div class=\"sk-item sk-dashed-wrapped\"><div class=\"sk-label-container\"><div class=\"sk-label sk-toggleable\"><input class=\"sk-toggleable__control sk-hidden--visually\" id=\"sk-estimator-id-4\" type=\"checkbox\" ><label for=\"sk-estimator-id-4\" class=\"sk-toggleable__label sk-toggleable__label-arrow\">GridSearchCV</label><div class=\"sk-toggleable__content\"><pre>GridSearchCV(estimator=Pipeline(steps=[(&#x27;rf&#x27;, RandomForestClassifier())]),\n",
              "             param_grid={&#x27;rf__max_depth&#x27;: [None, 5, 10, 15, 20, 25],\n",
              "                         &#x27;rf__n_estimators&#x27;: [100, 200, 300]})</pre></div></div></div><div class=\"sk-parallel\"><div class=\"sk-parallel-item\"><div class=\"sk-item\"><div class=\"sk-label-container\"><div class=\"sk-label sk-toggleable\"><input class=\"sk-toggleable__control sk-hidden--visually\" id=\"sk-estimator-id-5\" type=\"checkbox\" ><label for=\"sk-estimator-id-5\" class=\"sk-toggleable__label sk-toggleable__label-arrow\">estimator: Pipeline</label><div class=\"sk-toggleable__content\"><pre>Pipeline(steps=[(&#x27;rf&#x27;, RandomForestClassifier())])</pre></div></div></div><div class=\"sk-serial\"><div class=\"sk-item\"><div class=\"sk-serial\"><div class=\"sk-item\"><div class=\"sk-estimator sk-toggleable\"><input class=\"sk-toggleable__control sk-hidden--visually\" id=\"sk-estimator-id-6\" type=\"checkbox\" ><label for=\"sk-estimator-id-6\" class=\"sk-toggleable__label sk-toggleable__label-arrow\">RandomForestClassifier</label><div class=\"sk-toggleable__content\"><pre>RandomForestClassifier()</pre></div></div></div></div></div></div></div></div></div></div></div></div>"
            ]
          },
          "metadata": {},
          "execution_count": 36
        }
      ]
    },
    {
      "cell_type": "code",
      "source": [
        "# Menerapkan cross validation dengan 5 fold dan Hyperparameter terbaik pada model\n",
        "\n",
        "svc_grid_search = GridSearchCV(svc_pipe, param_grid=svc_param_grid)\n",
        "svc_grid_search.fit(X_train_final, y_train)"
      ],
      "metadata": {
        "colab": {
          "base_uri": "https://localhost:8080/",
          "height": 118
        },
        "id": "3NGnY6Ibv-WL",
        "outputId": "a3ee6656-cb06-443e-da88-ab9ff8a6f6eb"
      },
      "execution_count": 37,
      "outputs": [
        {
          "output_type": "execute_result",
          "data": {
            "text/plain": [
              "GridSearchCV(estimator=Pipeline(steps=[('svc', SVC(probability=True))]),\n",
              "             param_grid={'svc__C': [0.1, 1, 3, 5, 7, 10, 15, 30],\n",
              "                         'svc__kernel': ['linear', 'rbf', 'sigmoid', 'poly']})"
            ],
            "text/html": [
              "<style>#sk-container-id-3 {color: black;background-color: white;}#sk-container-id-3 pre{padding: 0;}#sk-container-id-3 div.sk-toggleable {background-color: white;}#sk-container-id-3 label.sk-toggleable__label {cursor: pointer;display: block;width: 100%;margin-bottom: 0;padding: 0.3em;box-sizing: border-box;text-align: center;}#sk-container-id-3 label.sk-toggleable__label-arrow:before {content: \"▸\";float: left;margin-right: 0.25em;color: #696969;}#sk-container-id-3 label.sk-toggleable__label-arrow:hover:before {color: black;}#sk-container-id-3 div.sk-estimator:hover label.sk-toggleable__label-arrow:before {color: black;}#sk-container-id-3 div.sk-toggleable__content {max-height: 0;max-width: 0;overflow: hidden;text-align: left;background-color: #f0f8ff;}#sk-container-id-3 div.sk-toggleable__content pre {margin: 0.2em;color: black;border-radius: 0.25em;background-color: #f0f8ff;}#sk-container-id-3 input.sk-toggleable__control:checked~div.sk-toggleable__content {max-height: 200px;max-width: 100%;overflow: auto;}#sk-container-id-3 input.sk-toggleable__control:checked~label.sk-toggleable__label-arrow:before {content: \"▾\";}#sk-container-id-3 div.sk-estimator input.sk-toggleable__control:checked~label.sk-toggleable__label {background-color: #d4ebff;}#sk-container-id-3 div.sk-label input.sk-toggleable__control:checked~label.sk-toggleable__label {background-color: #d4ebff;}#sk-container-id-3 input.sk-hidden--visually {border: 0;clip: rect(1px 1px 1px 1px);clip: rect(1px, 1px, 1px, 1px);height: 1px;margin: -1px;overflow: hidden;padding: 0;position: absolute;width: 1px;}#sk-container-id-3 div.sk-estimator {font-family: monospace;background-color: #f0f8ff;border: 1px dotted black;border-radius: 0.25em;box-sizing: border-box;margin-bottom: 0.5em;}#sk-container-id-3 div.sk-estimator:hover {background-color: #d4ebff;}#sk-container-id-3 div.sk-parallel-item::after {content: \"\";width: 100%;border-bottom: 1px solid gray;flex-grow: 1;}#sk-container-id-3 div.sk-label:hover label.sk-toggleable__label {background-color: #d4ebff;}#sk-container-id-3 div.sk-serial::before {content: \"\";position: absolute;border-left: 1px solid gray;box-sizing: border-box;top: 0;bottom: 0;left: 50%;z-index: 0;}#sk-container-id-3 div.sk-serial {display: flex;flex-direction: column;align-items: center;background-color: white;padding-right: 0.2em;padding-left: 0.2em;position: relative;}#sk-container-id-3 div.sk-item {position: relative;z-index: 1;}#sk-container-id-3 div.sk-parallel {display: flex;align-items: stretch;justify-content: center;background-color: white;position: relative;}#sk-container-id-3 div.sk-item::before, #sk-container-id-3 div.sk-parallel-item::before {content: \"\";position: absolute;border-left: 1px solid gray;box-sizing: border-box;top: 0;bottom: 0;left: 50%;z-index: -1;}#sk-container-id-3 div.sk-parallel-item {display: flex;flex-direction: column;z-index: 1;position: relative;background-color: white;}#sk-container-id-3 div.sk-parallel-item:first-child::after {align-self: flex-end;width: 50%;}#sk-container-id-3 div.sk-parallel-item:last-child::after {align-self: flex-start;width: 50%;}#sk-container-id-3 div.sk-parallel-item:only-child::after {width: 0;}#sk-container-id-3 div.sk-dashed-wrapped {border: 1px dashed gray;margin: 0 0.4em 0.5em 0.4em;box-sizing: border-box;padding-bottom: 0.4em;background-color: white;}#sk-container-id-3 div.sk-label label {font-family: monospace;font-weight: bold;display: inline-block;line-height: 1.2em;}#sk-container-id-3 div.sk-label-container {text-align: center;}#sk-container-id-3 div.sk-container {/* jupyter's `normalize.less` sets `[hidden] { display: none; }` but bootstrap.min.css set `[hidden] { display: none !important; }` so we also need the `!important` here to be able to override the default hidden behavior on the sphinx rendered scikit-learn.org. See: https://github.com/scikit-learn/scikit-learn/issues/21755 */display: inline-block !important;position: relative;}#sk-container-id-3 div.sk-text-repr-fallback {display: none;}</style><div id=\"sk-container-id-3\" class=\"sk-top-container\"><div class=\"sk-text-repr-fallback\"><pre>GridSearchCV(estimator=Pipeline(steps=[(&#x27;svc&#x27;, SVC(probability=True))]),\n",
              "             param_grid={&#x27;svc__C&#x27;: [0.1, 1, 3, 5, 7, 10, 15, 30],\n",
              "                         &#x27;svc__kernel&#x27;: [&#x27;linear&#x27;, &#x27;rbf&#x27;, &#x27;sigmoid&#x27;, &#x27;poly&#x27;]})</pre><b>In a Jupyter environment, please rerun this cell to show the HTML representation or trust the notebook. <br />On GitHub, the HTML representation is unable to render, please try loading this page with nbviewer.org.</b></div><div class=\"sk-container\" hidden><div class=\"sk-item sk-dashed-wrapped\"><div class=\"sk-label-container\"><div class=\"sk-label sk-toggleable\"><input class=\"sk-toggleable__control sk-hidden--visually\" id=\"sk-estimator-id-7\" type=\"checkbox\" ><label for=\"sk-estimator-id-7\" class=\"sk-toggleable__label sk-toggleable__label-arrow\">GridSearchCV</label><div class=\"sk-toggleable__content\"><pre>GridSearchCV(estimator=Pipeline(steps=[(&#x27;svc&#x27;, SVC(probability=True))]),\n",
              "             param_grid={&#x27;svc__C&#x27;: [0.1, 1, 3, 5, 7, 10, 15, 30],\n",
              "                         &#x27;svc__kernel&#x27;: [&#x27;linear&#x27;, &#x27;rbf&#x27;, &#x27;sigmoid&#x27;, &#x27;poly&#x27;]})</pre></div></div></div><div class=\"sk-parallel\"><div class=\"sk-parallel-item\"><div class=\"sk-item\"><div class=\"sk-label-container\"><div class=\"sk-label sk-toggleable\"><input class=\"sk-toggleable__control sk-hidden--visually\" id=\"sk-estimator-id-8\" type=\"checkbox\" ><label for=\"sk-estimator-id-8\" class=\"sk-toggleable__label sk-toggleable__label-arrow\">estimator: Pipeline</label><div class=\"sk-toggleable__content\"><pre>Pipeline(steps=[(&#x27;svc&#x27;, SVC(probability=True))])</pre></div></div></div><div class=\"sk-serial\"><div class=\"sk-item\"><div class=\"sk-serial\"><div class=\"sk-item\"><div class=\"sk-estimator sk-toggleable\"><input class=\"sk-toggleable__control sk-hidden--visually\" id=\"sk-estimator-id-9\" type=\"checkbox\" ><label for=\"sk-estimator-id-9\" class=\"sk-toggleable__label sk-toggleable__label-arrow\">SVC</label><div class=\"sk-toggleable__content\"><pre>SVC(probability=True)</pre></div></div></div></div></div></div></div></div></div></div></div></div>"
            ]
          },
          "metadata": {},
          "execution_count": 37
        }
      ]
    },
    {
      "cell_type": "code",
      "source": [
        "# Menerapkan cross validation dengan 5 fold dan Hyperparameter terbaik pada model\n",
        "\n",
        "dt_grid_search = GridSearchCV(dt_pipe, param_grid=dt_param_grid)\n",
        "dt_grid_search.fit(X_train_final, y_train)"
      ],
      "metadata": {
        "colab": {
          "base_uri": "https://localhost:8080/",
          "height": 118
        },
        "id": "Bg3sDHOf2BfW",
        "outputId": "eeb969cf-ee96-4600-c60e-067c898e12d6"
      },
      "execution_count": 38,
      "outputs": [
        {
          "output_type": "execute_result",
          "data": {
            "text/plain": [
              "GridSearchCV(estimator=Pipeline(steps=[('dt', DecisionTreeClassifier())]),\n",
              "             param_grid={'dt__max_depth': [5, 10, 15, 30, 50],\n",
              "                         'dt__min_samples_leaf': [1, 2, 4, 6],\n",
              "                         'dt__min_samples_split': [2, 5, 10, 15]})"
            ],
            "text/html": [
              "<style>#sk-container-id-4 {color: black;background-color: white;}#sk-container-id-4 pre{padding: 0;}#sk-container-id-4 div.sk-toggleable {background-color: white;}#sk-container-id-4 label.sk-toggleable__label {cursor: pointer;display: block;width: 100%;margin-bottom: 0;padding: 0.3em;box-sizing: border-box;text-align: center;}#sk-container-id-4 label.sk-toggleable__label-arrow:before {content: \"▸\";float: left;margin-right: 0.25em;color: #696969;}#sk-container-id-4 label.sk-toggleable__label-arrow:hover:before {color: black;}#sk-container-id-4 div.sk-estimator:hover label.sk-toggleable__label-arrow:before {color: black;}#sk-container-id-4 div.sk-toggleable__content {max-height: 0;max-width: 0;overflow: hidden;text-align: left;background-color: #f0f8ff;}#sk-container-id-4 div.sk-toggleable__content pre {margin: 0.2em;color: black;border-radius: 0.25em;background-color: #f0f8ff;}#sk-container-id-4 input.sk-toggleable__control:checked~div.sk-toggleable__content {max-height: 200px;max-width: 100%;overflow: auto;}#sk-container-id-4 input.sk-toggleable__control:checked~label.sk-toggleable__label-arrow:before {content: \"▾\";}#sk-container-id-4 div.sk-estimator input.sk-toggleable__control:checked~label.sk-toggleable__label {background-color: #d4ebff;}#sk-container-id-4 div.sk-label input.sk-toggleable__control:checked~label.sk-toggleable__label {background-color: #d4ebff;}#sk-container-id-4 input.sk-hidden--visually {border: 0;clip: rect(1px 1px 1px 1px);clip: rect(1px, 1px, 1px, 1px);height: 1px;margin: -1px;overflow: hidden;padding: 0;position: absolute;width: 1px;}#sk-container-id-4 div.sk-estimator {font-family: monospace;background-color: #f0f8ff;border: 1px dotted black;border-radius: 0.25em;box-sizing: border-box;margin-bottom: 0.5em;}#sk-container-id-4 div.sk-estimator:hover {background-color: #d4ebff;}#sk-container-id-4 div.sk-parallel-item::after {content: \"\";width: 100%;border-bottom: 1px solid gray;flex-grow: 1;}#sk-container-id-4 div.sk-label:hover label.sk-toggleable__label {background-color: #d4ebff;}#sk-container-id-4 div.sk-serial::before {content: \"\";position: absolute;border-left: 1px solid gray;box-sizing: border-box;top: 0;bottom: 0;left: 50%;z-index: 0;}#sk-container-id-4 div.sk-serial {display: flex;flex-direction: column;align-items: center;background-color: white;padding-right: 0.2em;padding-left: 0.2em;position: relative;}#sk-container-id-4 div.sk-item {position: relative;z-index: 1;}#sk-container-id-4 div.sk-parallel {display: flex;align-items: stretch;justify-content: center;background-color: white;position: relative;}#sk-container-id-4 div.sk-item::before, #sk-container-id-4 div.sk-parallel-item::before {content: \"\";position: absolute;border-left: 1px solid gray;box-sizing: border-box;top: 0;bottom: 0;left: 50%;z-index: -1;}#sk-container-id-4 div.sk-parallel-item {display: flex;flex-direction: column;z-index: 1;position: relative;background-color: white;}#sk-container-id-4 div.sk-parallel-item:first-child::after {align-self: flex-end;width: 50%;}#sk-container-id-4 div.sk-parallel-item:last-child::after {align-self: flex-start;width: 50%;}#sk-container-id-4 div.sk-parallel-item:only-child::after {width: 0;}#sk-container-id-4 div.sk-dashed-wrapped {border: 1px dashed gray;margin: 0 0.4em 0.5em 0.4em;box-sizing: border-box;padding-bottom: 0.4em;background-color: white;}#sk-container-id-4 div.sk-label label {font-family: monospace;font-weight: bold;display: inline-block;line-height: 1.2em;}#sk-container-id-4 div.sk-label-container {text-align: center;}#sk-container-id-4 div.sk-container {/* jupyter's `normalize.less` sets `[hidden] { display: none; }` but bootstrap.min.css set `[hidden] { display: none !important; }` so we also need the `!important` here to be able to override the default hidden behavior on the sphinx rendered scikit-learn.org. See: https://github.com/scikit-learn/scikit-learn/issues/21755 */display: inline-block !important;position: relative;}#sk-container-id-4 div.sk-text-repr-fallback {display: none;}</style><div id=\"sk-container-id-4\" class=\"sk-top-container\"><div class=\"sk-text-repr-fallback\"><pre>GridSearchCV(estimator=Pipeline(steps=[(&#x27;dt&#x27;, DecisionTreeClassifier())]),\n",
              "             param_grid={&#x27;dt__max_depth&#x27;: [5, 10, 15, 30, 50],\n",
              "                         &#x27;dt__min_samples_leaf&#x27;: [1, 2, 4, 6],\n",
              "                         &#x27;dt__min_samples_split&#x27;: [2, 5, 10, 15]})</pre><b>In a Jupyter environment, please rerun this cell to show the HTML representation or trust the notebook. <br />On GitHub, the HTML representation is unable to render, please try loading this page with nbviewer.org.</b></div><div class=\"sk-container\" hidden><div class=\"sk-item sk-dashed-wrapped\"><div class=\"sk-label-container\"><div class=\"sk-label sk-toggleable\"><input class=\"sk-toggleable__control sk-hidden--visually\" id=\"sk-estimator-id-10\" type=\"checkbox\" ><label for=\"sk-estimator-id-10\" class=\"sk-toggleable__label sk-toggleable__label-arrow\">GridSearchCV</label><div class=\"sk-toggleable__content\"><pre>GridSearchCV(estimator=Pipeline(steps=[(&#x27;dt&#x27;, DecisionTreeClassifier())]),\n",
              "             param_grid={&#x27;dt__max_depth&#x27;: [5, 10, 15, 30, 50],\n",
              "                         &#x27;dt__min_samples_leaf&#x27;: [1, 2, 4, 6],\n",
              "                         &#x27;dt__min_samples_split&#x27;: [2, 5, 10, 15]})</pre></div></div></div><div class=\"sk-parallel\"><div class=\"sk-parallel-item\"><div class=\"sk-item\"><div class=\"sk-label-container\"><div class=\"sk-label sk-toggleable\"><input class=\"sk-toggleable__control sk-hidden--visually\" id=\"sk-estimator-id-11\" type=\"checkbox\" ><label for=\"sk-estimator-id-11\" class=\"sk-toggleable__label sk-toggleable__label-arrow\">estimator: Pipeline</label><div class=\"sk-toggleable__content\"><pre>Pipeline(steps=[(&#x27;dt&#x27;, DecisionTreeClassifier())])</pre></div></div></div><div class=\"sk-serial\"><div class=\"sk-item\"><div class=\"sk-serial\"><div class=\"sk-item\"><div class=\"sk-estimator sk-toggleable\"><input class=\"sk-toggleable__control sk-hidden--visually\" id=\"sk-estimator-id-12\" type=\"checkbox\" ><label for=\"sk-estimator-id-12\" class=\"sk-toggleable__label sk-toggleable__label-arrow\">DecisionTreeClassifier</label><div class=\"sk-toggleable__content\"><pre>DecisionTreeClassifier()</pre></div></div></div></div></div></div></div></div></div></div></div></div>"
            ]
          },
          "metadata": {},
          "execution_count": 38
        }
      ]
    },
    {
      "cell_type": "code",
      "source": [
        "# Menerapkan cross validation dengan 5 fold dan Hyperparameter terbaik pada model\n",
        "\n",
        "knn_grid_search = GridSearchCV(knn_pipe, param_grid=knn_param_grid)\n",
        "knn_grid_search.fit(X_train_final, y_train)"
      ],
      "metadata": {
        "colab": {
          "base_uri": "https://localhost:8080/",
          "height": 118
        },
        "id": "Asz5jNXP1M86",
        "outputId": "71b4b41f-c062-428c-aba7-eb5aac67b1e6"
      },
      "execution_count": 39,
      "outputs": [
        {
          "output_type": "execute_result",
          "data": {
            "text/plain": [
              "GridSearchCV(estimator=Pipeline(steps=[('knn', KNeighborsClassifier())]),\n",
              "             param_grid={'knn__algorithm': ['ball_tree', 'kd_tree', 'brute'],\n",
              "                         'knn__leaf_size': [1, 5, 10, 15, 20, 25, 30],\n",
              "                         'knn__n_neighbors': [3, 5, 7, 9, 11, 13, 15],\n",
              "                         'knn__weights': ['uniform', 'distance']})"
            ],
            "text/html": [
              "<style>#sk-container-id-5 {color: black;background-color: white;}#sk-container-id-5 pre{padding: 0;}#sk-container-id-5 div.sk-toggleable {background-color: white;}#sk-container-id-5 label.sk-toggleable__label {cursor: pointer;display: block;width: 100%;margin-bottom: 0;padding: 0.3em;box-sizing: border-box;text-align: center;}#sk-container-id-5 label.sk-toggleable__label-arrow:before {content: \"▸\";float: left;margin-right: 0.25em;color: #696969;}#sk-container-id-5 label.sk-toggleable__label-arrow:hover:before {color: black;}#sk-container-id-5 div.sk-estimator:hover label.sk-toggleable__label-arrow:before {color: black;}#sk-container-id-5 div.sk-toggleable__content {max-height: 0;max-width: 0;overflow: hidden;text-align: left;background-color: #f0f8ff;}#sk-container-id-5 div.sk-toggleable__content pre {margin: 0.2em;color: black;border-radius: 0.25em;background-color: #f0f8ff;}#sk-container-id-5 input.sk-toggleable__control:checked~div.sk-toggleable__content {max-height: 200px;max-width: 100%;overflow: auto;}#sk-container-id-5 input.sk-toggleable__control:checked~label.sk-toggleable__label-arrow:before {content: \"▾\";}#sk-container-id-5 div.sk-estimator input.sk-toggleable__control:checked~label.sk-toggleable__label {background-color: #d4ebff;}#sk-container-id-5 div.sk-label input.sk-toggleable__control:checked~label.sk-toggleable__label {background-color: #d4ebff;}#sk-container-id-5 input.sk-hidden--visually {border: 0;clip: rect(1px 1px 1px 1px);clip: rect(1px, 1px, 1px, 1px);height: 1px;margin: -1px;overflow: hidden;padding: 0;position: absolute;width: 1px;}#sk-container-id-5 div.sk-estimator {font-family: monospace;background-color: #f0f8ff;border: 1px dotted black;border-radius: 0.25em;box-sizing: border-box;margin-bottom: 0.5em;}#sk-container-id-5 div.sk-estimator:hover {background-color: #d4ebff;}#sk-container-id-5 div.sk-parallel-item::after {content: \"\";width: 100%;border-bottom: 1px solid gray;flex-grow: 1;}#sk-container-id-5 div.sk-label:hover label.sk-toggleable__label {background-color: #d4ebff;}#sk-container-id-5 div.sk-serial::before {content: \"\";position: absolute;border-left: 1px solid gray;box-sizing: border-box;top: 0;bottom: 0;left: 50%;z-index: 0;}#sk-container-id-5 div.sk-serial {display: flex;flex-direction: column;align-items: center;background-color: white;padding-right: 0.2em;padding-left: 0.2em;position: relative;}#sk-container-id-5 div.sk-item {position: relative;z-index: 1;}#sk-container-id-5 div.sk-parallel {display: flex;align-items: stretch;justify-content: center;background-color: white;position: relative;}#sk-container-id-5 div.sk-item::before, #sk-container-id-5 div.sk-parallel-item::before {content: \"\";position: absolute;border-left: 1px solid gray;box-sizing: border-box;top: 0;bottom: 0;left: 50%;z-index: -1;}#sk-container-id-5 div.sk-parallel-item {display: flex;flex-direction: column;z-index: 1;position: relative;background-color: white;}#sk-container-id-5 div.sk-parallel-item:first-child::after {align-self: flex-end;width: 50%;}#sk-container-id-5 div.sk-parallel-item:last-child::after {align-self: flex-start;width: 50%;}#sk-container-id-5 div.sk-parallel-item:only-child::after {width: 0;}#sk-container-id-5 div.sk-dashed-wrapped {border: 1px dashed gray;margin: 0 0.4em 0.5em 0.4em;box-sizing: border-box;padding-bottom: 0.4em;background-color: white;}#sk-container-id-5 div.sk-label label {font-family: monospace;font-weight: bold;display: inline-block;line-height: 1.2em;}#sk-container-id-5 div.sk-label-container {text-align: center;}#sk-container-id-5 div.sk-container {/* jupyter's `normalize.less` sets `[hidden] { display: none; }` but bootstrap.min.css set `[hidden] { display: none !important; }` so we also need the `!important` here to be able to override the default hidden behavior on the sphinx rendered scikit-learn.org. See: https://github.com/scikit-learn/scikit-learn/issues/21755 */display: inline-block !important;position: relative;}#sk-container-id-5 div.sk-text-repr-fallback {display: none;}</style><div id=\"sk-container-id-5\" class=\"sk-top-container\"><div class=\"sk-text-repr-fallback\"><pre>GridSearchCV(estimator=Pipeline(steps=[(&#x27;knn&#x27;, KNeighborsClassifier())]),\n",
              "             param_grid={&#x27;knn__algorithm&#x27;: [&#x27;ball_tree&#x27;, &#x27;kd_tree&#x27;, &#x27;brute&#x27;],\n",
              "                         &#x27;knn__leaf_size&#x27;: [1, 5, 10, 15, 20, 25, 30],\n",
              "                         &#x27;knn__n_neighbors&#x27;: [3, 5, 7, 9, 11, 13, 15],\n",
              "                         &#x27;knn__weights&#x27;: [&#x27;uniform&#x27;, &#x27;distance&#x27;]})</pre><b>In a Jupyter environment, please rerun this cell to show the HTML representation or trust the notebook. <br />On GitHub, the HTML representation is unable to render, please try loading this page with nbviewer.org.</b></div><div class=\"sk-container\" hidden><div class=\"sk-item sk-dashed-wrapped\"><div class=\"sk-label-container\"><div class=\"sk-label sk-toggleable\"><input class=\"sk-toggleable__control sk-hidden--visually\" id=\"sk-estimator-id-13\" type=\"checkbox\" ><label for=\"sk-estimator-id-13\" class=\"sk-toggleable__label sk-toggleable__label-arrow\">GridSearchCV</label><div class=\"sk-toggleable__content\"><pre>GridSearchCV(estimator=Pipeline(steps=[(&#x27;knn&#x27;, KNeighborsClassifier())]),\n",
              "             param_grid={&#x27;knn__algorithm&#x27;: [&#x27;ball_tree&#x27;, &#x27;kd_tree&#x27;, &#x27;brute&#x27;],\n",
              "                         &#x27;knn__leaf_size&#x27;: [1, 5, 10, 15, 20, 25, 30],\n",
              "                         &#x27;knn__n_neighbors&#x27;: [3, 5, 7, 9, 11, 13, 15],\n",
              "                         &#x27;knn__weights&#x27;: [&#x27;uniform&#x27;, &#x27;distance&#x27;]})</pre></div></div></div><div class=\"sk-parallel\"><div class=\"sk-parallel-item\"><div class=\"sk-item\"><div class=\"sk-label-container\"><div class=\"sk-label sk-toggleable\"><input class=\"sk-toggleable__control sk-hidden--visually\" id=\"sk-estimator-id-14\" type=\"checkbox\" ><label for=\"sk-estimator-id-14\" class=\"sk-toggleable__label sk-toggleable__label-arrow\">estimator: Pipeline</label><div class=\"sk-toggleable__content\"><pre>Pipeline(steps=[(&#x27;knn&#x27;, KNeighborsClassifier())])</pre></div></div></div><div class=\"sk-serial\"><div class=\"sk-item\"><div class=\"sk-serial\"><div class=\"sk-item\"><div class=\"sk-estimator sk-toggleable\"><input class=\"sk-toggleable__control sk-hidden--visually\" id=\"sk-estimator-id-15\" type=\"checkbox\" ><label for=\"sk-estimator-id-15\" class=\"sk-toggleable__label sk-toggleable__label-arrow\">KNeighborsClassifier</label><div class=\"sk-toggleable__content\"><pre>KNeighborsClassifier()</pre></div></div></div></div></div></div></div></div></div></div></div></div>"
            ]
          },
          "metadata": {},
          "execution_count": 39
        }
      ]
    },
    {
      "cell_type": "code",
      "source": [
        "# Membuat data classifier\n",
        "\n",
        "classifiers = [\n",
        "    ('logreg', logreg_grid_search.best_estimator_),\n",
        "    ('rf', rf_grid_search.best_estimator_),\n",
        "    ('svc', svc_grid_search.best_estimator_),\n",
        "    ('dt', dt_grid_search.best_estimator_),\n",
        "    ('knn', knn_grid_search.best_estimator_)\n",
        "]"
      ],
      "metadata": {
        "id": "uwwySvfXwZBS"
      },
      "execution_count": 40,
      "outputs": []
    },
    {
      "cell_type": "code",
      "source": [
        "# Membuat variabel voting dengan menerapkan soft voting\n",
        "\n",
        "voting = VotingClassifier(classifiers, voting='soft')"
      ],
      "metadata": {
        "id": "X2MBiKWVwCSY"
      },
      "execution_count": 41,
      "outputs": []
    },
    {
      "cell_type": "code",
      "source": [
        "# Fit voting classifier pada data training\n",
        "\n",
        "voting.fit(X_train_final, y_train)"
      ],
      "metadata": {
        "colab": {
          "base_uri": "https://localhost:8080/",
          "height": 110
        },
        "id": "swTJNfLgwxik",
        "outputId": "3b93e1cc-c1c9-4cc2-de01-42ea5e95b7dd"
      },
      "execution_count": 42,
      "outputs": [
        {
          "output_type": "execute_result",
          "data": {
            "text/plain": [
              "VotingClassifier(estimators=[('logreg',\n",
              "                              Pipeline(steps=[('logreg',\n",
              "                                               LogisticRegression(C=1,\n",
              "                                                                  solver='newton-cholesky'))])),\n",
              "                             ('rf',\n",
              "                              Pipeline(steps=[('rf',\n",
              "                                               RandomForestClassifier(max_depth=15,\n",
              "                                                                      n_estimators=300))])),\n",
              "                             ('svc',\n",
              "                              Pipeline(steps=[('svc',\n",
              "                                               SVC(C=7, probability=True))])),\n",
              "                             ('dt',\n",
              "                              Pipeline(steps=[('dt',\n",
              "                                               DecisionTreeClassifier(max_depth=30))])),\n",
              "                             ('knn',\n",
              "                              Pipeline(steps=[('knn',\n",
              "                                               KNeighborsClassifier(algorithm='ball_tree',\n",
              "                                                                    leaf_size=1,\n",
              "                                                                    n_neighbors=15,\n",
              "                                                                    weights='distance'))]))],\n",
              "                 voting='soft')"
            ],
            "text/html": [
              "<style>#sk-container-id-6 {color: black;background-color: white;}#sk-container-id-6 pre{padding: 0;}#sk-container-id-6 div.sk-toggleable {background-color: white;}#sk-container-id-6 label.sk-toggleable__label {cursor: pointer;display: block;width: 100%;margin-bottom: 0;padding: 0.3em;box-sizing: border-box;text-align: center;}#sk-container-id-6 label.sk-toggleable__label-arrow:before {content: \"▸\";float: left;margin-right: 0.25em;color: #696969;}#sk-container-id-6 label.sk-toggleable__label-arrow:hover:before {color: black;}#sk-container-id-6 div.sk-estimator:hover label.sk-toggleable__label-arrow:before {color: black;}#sk-container-id-6 div.sk-toggleable__content {max-height: 0;max-width: 0;overflow: hidden;text-align: left;background-color: #f0f8ff;}#sk-container-id-6 div.sk-toggleable__content pre {margin: 0.2em;color: black;border-radius: 0.25em;background-color: #f0f8ff;}#sk-container-id-6 input.sk-toggleable__control:checked~div.sk-toggleable__content {max-height: 200px;max-width: 100%;overflow: auto;}#sk-container-id-6 input.sk-toggleable__control:checked~label.sk-toggleable__label-arrow:before {content: \"▾\";}#sk-container-id-6 div.sk-estimator input.sk-toggleable__control:checked~label.sk-toggleable__label {background-color: #d4ebff;}#sk-container-id-6 div.sk-label input.sk-toggleable__control:checked~label.sk-toggleable__label {background-color: #d4ebff;}#sk-container-id-6 input.sk-hidden--visually {border: 0;clip: rect(1px 1px 1px 1px);clip: rect(1px, 1px, 1px, 1px);height: 1px;margin: -1px;overflow: hidden;padding: 0;position: absolute;width: 1px;}#sk-container-id-6 div.sk-estimator {font-family: monospace;background-color: #f0f8ff;border: 1px dotted black;border-radius: 0.25em;box-sizing: border-box;margin-bottom: 0.5em;}#sk-container-id-6 div.sk-estimator:hover {background-color: #d4ebff;}#sk-container-id-6 div.sk-parallel-item::after {content: \"\";width: 100%;border-bottom: 1px solid gray;flex-grow: 1;}#sk-container-id-6 div.sk-label:hover label.sk-toggleable__label {background-color: #d4ebff;}#sk-container-id-6 div.sk-serial::before {content: \"\";position: absolute;border-left: 1px solid gray;box-sizing: border-box;top: 0;bottom: 0;left: 50%;z-index: 0;}#sk-container-id-6 div.sk-serial {display: flex;flex-direction: column;align-items: center;background-color: white;padding-right: 0.2em;padding-left: 0.2em;position: relative;}#sk-container-id-6 div.sk-item {position: relative;z-index: 1;}#sk-container-id-6 div.sk-parallel {display: flex;align-items: stretch;justify-content: center;background-color: white;position: relative;}#sk-container-id-6 div.sk-item::before, #sk-container-id-6 div.sk-parallel-item::before {content: \"\";position: absolute;border-left: 1px solid gray;box-sizing: border-box;top: 0;bottom: 0;left: 50%;z-index: -1;}#sk-container-id-6 div.sk-parallel-item {display: flex;flex-direction: column;z-index: 1;position: relative;background-color: white;}#sk-container-id-6 div.sk-parallel-item:first-child::after {align-self: flex-end;width: 50%;}#sk-container-id-6 div.sk-parallel-item:last-child::after {align-self: flex-start;width: 50%;}#sk-container-id-6 div.sk-parallel-item:only-child::after {width: 0;}#sk-container-id-6 div.sk-dashed-wrapped {border: 1px dashed gray;margin: 0 0.4em 0.5em 0.4em;box-sizing: border-box;padding-bottom: 0.4em;background-color: white;}#sk-container-id-6 div.sk-label label {font-family: monospace;font-weight: bold;display: inline-block;line-height: 1.2em;}#sk-container-id-6 div.sk-label-container {text-align: center;}#sk-container-id-6 div.sk-container {/* jupyter's `normalize.less` sets `[hidden] { display: none; }` but bootstrap.min.css set `[hidden] { display: none !important; }` so we also need the `!important` here to be able to override the default hidden behavior on the sphinx rendered scikit-learn.org. See: https://github.com/scikit-learn/scikit-learn/issues/21755 */display: inline-block !important;position: relative;}#sk-container-id-6 div.sk-text-repr-fallback {display: none;}</style><div id=\"sk-container-id-6\" class=\"sk-top-container\"><div class=\"sk-text-repr-fallback\"><pre>VotingClassifier(estimators=[(&#x27;logreg&#x27;,\n",
              "                              Pipeline(steps=[(&#x27;logreg&#x27;,\n",
              "                                               LogisticRegression(C=1,\n",
              "                                                                  solver=&#x27;newton-cholesky&#x27;))])),\n",
              "                             (&#x27;rf&#x27;,\n",
              "                              Pipeline(steps=[(&#x27;rf&#x27;,\n",
              "                                               RandomForestClassifier(max_depth=15,\n",
              "                                                                      n_estimators=300))])),\n",
              "                             (&#x27;svc&#x27;,\n",
              "                              Pipeline(steps=[(&#x27;svc&#x27;,\n",
              "                                               SVC(C=7, probability=True))])),\n",
              "                             (&#x27;dt&#x27;,\n",
              "                              Pipeline(steps=[(&#x27;dt&#x27;,\n",
              "                                               DecisionTreeClassifier(max_depth=30))])),\n",
              "                             (&#x27;knn&#x27;,\n",
              "                              Pipeline(steps=[(&#x27;knn&#x27;,\n",
              "                                               KNeighborsClassifier(algorithm=&#x27;ball_tree&#x27;,\n",
              "                                                                    leaf_size=1,\n",
              "                                                                    n_neighbors=15,\n",
              "                                                                    weights=&#x27;distance&#x27;))]))],\n",
              "                 voting=&#x27;soft&#x27;)</pre><b>In a Jupyter environment, please rerun this cell to show the HTML representation or trust the notebook. <br />On GitHub, the HTML representation is unable to render, please try loading this page with nbviewer.org.</b></div><div class=\"sk-container\" hidden><div class=\"sk-item sk-dashed-wrapped\"><div class=\"sk-label-container\"><div class=\"sk-label sk-toggleable\"><input class=\"sk-toggleable__control sk-hidden--visually\" id=\"sk-estimator-id-16\" type=\"checkbox\" ><label for=\"sk-estimator-id-16\" class=\"sk-toggleable__label sk-toggleable__label-arrow\">VotingClassifier</label><div class=\"sk-toggleable__content\"><pre>VotingClassifier(estimators=[(&#x27;logreg&#x27;,\n",
              "                              Pipeline(steps=[(&#x27;logreg&#x27;,\n",
              "                                               LogisticRegression(C=1,\n",
              "                                                                  solver=&#x27;newton-cholesky&#x27;))])),\n",
              "                             (&#x27;rf&#x27;,\n",
              "                              Pipeline(steps=[(&#x27;rf&#x27;,\n",
              "                                               RandomForestClassifier(max_depth=15,\n",
              "                                                                      n_estimators=300))])),\n",
              "                             (&#x27;svc&#x27;,\n",
              "                              Pipeline(steps=[(&#x27;svc&#x27;,\n",
              "                                               SVC(C=7, probability=True))])),\n",
              "                             (&#x27;dt&#x27;,\n",
              "                              Pipeline(steps=[(&#x27;dt&#x27;,\n",
              "                                               DecisionTreeClassifier(max_depth=30))])),\n",
              "                             (&#x27;knn&#x27;,\n",
              "                              Pipeline(steps=[(&#x27;knn&#x27;,\n",
              "                                               KNeighborsClassifier(algorithm=&#x27;ball_tree&#x27;,\n",
              "                                                                    leaf_size=1,\n",
              "                                                                    n_neighbors=15,\n",
              "                                                                    weights=&#x27;distance&#x27;))]))],\n",
              "                 voting=&#x27;soft&#x27;)</pre></div></div></div><div class=\"sk-parallel\"><div class=\"sk-parallel-item\"><div class=\"sk-item\"><div class=\"sk-label-container\"><div class=\"sk-label sk-toggleable\"><label>logreg</label></div></div><div class=\"sk-serial\"><div class=\"sk-item\"><div class=\"sk-serial\"><div class=\"sk-item\"><div class=\"sk-estimator sk-toggleable\"><input class=\"sk-toggleable__control sk-hidden--visually\" id=\"sk-estimator-id-17\" type=\"checkbox\" ><label for=\"sk-estimator-id-17\" class=\"sk-toggleable__label sk-toggleable__label-arrow\">LogisticRegression</label><div class=\"sk-toggleable__content\"><pre>LogisticRegression(C=1, solver=&#x27;newton-cholesky&#x27;)</pre></div></div></div></div></div></div></div></div><div class=\"sk-parallel-item\"><div class=\"sk-item\"><div class=\"sk-label-container\"><div class=\"sk-label sk-toggleable\"><label>rf</label></div></div><div class=\"sk-serial\"><div class=\"sk-item\"><div class=\"sk-serial\"><div class=\"sk-item\"><div class=\"sk-estimator sk-toggleable\"><input class=\"sk-toggleable__control sk-hidden--visually\" id=\"sk-estimator-id-18\" type=\"checkbox\" ><label for=\"sk-estimator-id-18\" class=\"sk-toggleable__label sk-toggleable__label-arrow\">RandomForestClassifier</label><div class=\"sk-toggleable__content\"><pre>RandomForestClassifier(max_depth=15, n_estimators=300)</pre></div></div></div></div></div></div></div></div><div class=\"sk-parallel-item\"><div class=\"sk-item\"><div class=\"sk-label-container\"><div class=\"sk-label sk-toggleable\"><label>svc</label></div></div><div class=\"sk-serial\"><div class=\"sk-item\"><div class=\"sk-serial\"><div class=\"sk-item\"><div class=\"sk-estimator sk-toggleable\"><input class=\"sk-toggleable__control sk-hidden--visually\" id=\"sk-estimator-id-19\" type=\"checkbox\" ><label for=\"sk-estimator-id-19\" class=\"sk-toggleable__label sk-toggleable__label-arrow\">SVC</label><div class=\"sk-toggleable__content\"><pre>SVC(C=7, probability=True)</pre></div></div></div></div></div></div></div></div><div class=\"sk-parallel-item\"><div class=\"sk-item\"><div class=\"sk-label-container\"><div class=\"sk-label sk-toggleable\"><label>dt</label></div></div><div class=\"sk-serial\"><div class=\"sk-item\"><div class=\"sk-serial\"><div class=\"sk-item\"><div class=\"sk-estimator sk-toggleable\"><input class=\"sk-toggleable__control sk-hidden--visually\" id=\"sk-estimator-id-20\" type=\"checkbox\" ><label for=\"sk-estimator-id-20\" class=\"sk-toggleable__label sk-toggleable__label-arrow\">DecisionTreeClassifier</label><div class=\"sk-toggleable__content\"><pre>DecisionTreeClassifier(max_depth=30)</pre></div></div></div></div></div></div></div></div><div class=\"sk-parallel-item\"><div class=\"sk-item\"><div class=\"sk-label-container\"><div class=\"sk-label sk-toggleable\"><label>knn</label></div></div><div class=\"sk-serial\"><div class=\"sk-item\"><div class=\"sk-serial\"><div class=\"sk-item\"><div class=\"sk-estimator sk-toggleable\"><input class=\"sk-toggleable__control sk-hidden--visually\" id=\"sk-estimator-id-21\" type=\"checkbox\" ><label for=\"sk-estimator-id-21\" class=\"sk-toggleable__label sk-toggleable__label-arrow\">KNeighborsClassifier</label><div class=\"sk-toggleable__content\"><pre>KNeighborsClassifier(algorithm=&#x27;ball_tree&#x27;, leaf_size=1, n_neighbors=15,\n",
              "                     weights=&#x27;distance&#x27;)</pre></div></div></div></div></div></div></div></div></div></div></div></div>"
            ]
          },
          "metadata": {},
          "execution_count": 42
        }
      ]
    },
    {
      "cell_type": "code",
      "source": [
        "# Prediksi\n",
        "\n",
        "y_pred_train = voting.predict(X_train_final)"
      ],
      "metadata": {
        "id": "eeBkNlnMwz__"
      },
      "execution_count": 43,
      "outputs": []
    },
    {
      "cell_type": "code",
      "source": [
        "# Prediksi\n",
        "\n",
        "y_pred_test = voting.predict(X_test_final)"
      ],
      "metadata": {
        "id": "e-l5rZalslQM"
      },
      "execution_count": 44,
      "outputs": []
    },
    {
      "cell_type": "code",
      "source": [
        "y_pred_train"
      ],
      "metadata": {
        "colab": {
          "base_uri": "https://localhost:8080/"
        },
        "id": "Qox_Q05ZUEMB",
        "outputId": "de93272d-68f1-4c4d-9201-6b0b6c7fd15f"
      },
      "execution_count": 45,
      "outputs": [
        {
          "output_type": "execute_result",
          "data": {
            "text/plain": [
              "array([2, 2, 1, 0, 2, 1, 0, 0, 2, 0, 2, 1, 1, 0, 1, 2, 2, 0, 1, 0, 1, 0,\n",
              "       2, 2, 0, 1, 0, 2, 2, 0, 2, 1, 1, 2, 2, 0, 0, 1, 2, 2, 0, 2, 0, 2,\n",
              "       0, 2, 0, 0, 1, 1, 1, 0, 1, 1, 2, 1, 2, 1, 0, 2, 1, 0, 0, 2, 2, 0,\n",
              "       1, 1, 0, 1, 2, 2, 0, 2, 2, 0, 1, 1, 1, 2, 0, 2, 2, 1, 2, 2, 0, 2,\n",
              "       0, 1, 0, 1, 2, 1, 1, 0, 1, 2, 1, 1, 2, 0, 1, 0, 2, 0, 1, 2, 2, 1,\n",
              "       1, 2, 0, 0, 2, 2, 2, 0, 1, 2, 2, 2, 1, 1, 2, 1, 0, 0, 2, 1, 2, 1,\n",
              "       1, 0, 1, 0, 2, 1, 2, 2, 2, 2, 0, 1, 2, 1, 1, 2, 0, 2, 2, 1, 2, 0,\n",
              "       1, 2, 1, 1, 1, 1, 1, 2, 1, 2, 1, 2, 1, 2, 1, 1, 1, 0, 0, 1, 1, 0,\n",
              "       1, 0, 0, 2, 1, 1, 0, 2, 1, 1, 0, 0, 0, 1, 0, 2, 1, 2, 1, 1, 2, 0,\n",
              "       2, 2, 0, 2, 1, 2, 2, 1, 1, 2, 1, 0, 0, 1, 1, 0, 1, 2, 0, 0, 2, 1,\n",
              "       0, 1, 2, 1, 1, 1, 0, 2, 2, 1, 2, 2, 2, 0, 2, 1, 1, 1, 0, 2, 0, 0,\n",
              "       1, 0, 0, 2, 2, 1, 1, 2, 1, 1, 1, 2, 2, 1, 2, 0, 2, 1, 0, 2, 0, 1,\n",
              "       2, 0, 1, 0, 1, 2, 1, 1, 0, 2, 0, 2, 1, 2, 1, 0, 2, 0, 2, 1, 1, 0,\n",
              "       1, 0, 1, 1, 0, 0, 2, 2, 0, 1, 0, 1, 2, 1, 1, 0, 0, 2, 0, 0, 2, 1,\n",
              "       1, 2, 2, 2, 2, 0, 0, 2, 1, 0, 0, 2, 0, 1, 1, 1, 0, 2, 2, 0, 1, 1,\n",
              "       0, 2, 1, 1, 2, 0, 0, 2, 2, 2, 2, 0, 2, 1, 1, 1, 1, 0, 1, 1, 2, 1,\n",
              "       1, 2, 2, 0, 1, 0, 1, 2, 0, 2, 2, 2, 0, 0, 0, 0, 2, 0, 0, 2, 0, 1,\n",
              "       2, 2, 2, 0, 0, 0, 2, 0, 1, 2, 2, 2, 1, 1, 1, 1, 1, 0, 0, 2, 1, 1,\n",
              "       0, 1, 1, 1, 1, 0, 1, 2, 1, 2, 1, 2, 0, 2, 2, 1, 1, 2, 1, 1, 1, 0,\n",
              "       1, 1, 2, 1, 2, 1, 2, 1, 0, 0, 0, 2, 2, 0, 0, 0, 0, 1, 0, 0, 2, 1,\n",
              "       0, 1, 2, 2, 0, 0, 0, 2, 2, 1, 1, 1, 0, 1, 1, 2, 0, 0, 1, 0, 1, 2,\n",
              "       1, 2, 1, 0, 1, 2, 2, 1, 2, 1, 0, 1, 1, 0, 0, 1, 1, 2, 2, 0, 1, 2,\n",
              "       2, 2, 0, 2, 1, 1, 1, 1, 1, 0, 2, 2, 0, 2, 0, 1, 2, 2, 2, 2, 2, 2,\n",
              "       2, 1, 1, 2, 1, 2, 2, 1, 2, 1, 1, 1, 2, 1, 0, 2, 0, 1, 1, 2, 1, 0,\n",
              "       0, 1, 1, 2, 2, 1, 1, 2, 2, 0, 2, 1, 2, 0, 0, 1, 2, 1, 0, 1, 0, 2,\n",
              "       0, 2, 2, 1, 1, 1, 0, 0, 0, 1, 0, 1, 1, 1, 1, 2, 0, 2, 2, 0, 0, 2,\n",
              "       1, 0, 2, 1, 1, 2, 0, 1, 0, 0, 0, 2, 1, 1, 1, 1, 2, 1, 1, 1, 2, 2,\n",
              "       1, 0, 1, 1, 2, 1, 1, 2, 2, 1, 1, 2, 2, 2, 0, 1, 0, 2, 0, 1, 2, 1,\n",
              "       2, 0, 1, 1, 2, 2, 0, 0, 2, 2, 2, 1, 2, 2, 2, 0, 1, 0, 1, 1, 0, 1,\n",
              "       0, 0, 1, 1, 2, 1, 2, 1, 2, 2, 2, 1, 1, 0, 2, 1, 0, 0, 2, 1, 1, 2,\n",
              "       0, 1, 1, 2, 0, 2, 2, 2, 0, 2, 1, 1, 1, 1, 1, 2, 1, 1, 1, 0, 1, 0,\n",
              "       2, 2, 2, 1, 1, 0, 0, 2, 1, 0, 1, 1, 0, 1, 0, 2, 1, 0, 2, 2, 2, 0,\n",
              "       1, 0, 1, 0])"
            ]
          },
          "metadata": {},
          "execution_count": 45
        }
      ]
    },
    {
      "cell_type": "code",
      "source": [
        "y_pred_test"
      ],
      "metadata": {
        "colab": {
          "base_uri": "https://localhost:8080/"
        },
        "id": "Eh5nA7ZYso8a",
        "outputId": "4a97583a-120a-4437-a7bc-25e4ade88111"
      },
      "execution_count": 46,
      "outputs": [
        {
          "output_type": "execute_result",
          "data": {
            "text/plain": [
              "array([2, 0, 1, 2, 2, 2, 1, 2, 1, 0, 2, 2, 1, 1, 2, 1, 1, 1, 1, 1, 1, 0,\n",
              "       1, 0, 2, 0, 0, 1, 2, 2, 0, 1, 2, 2, 1, 1, 1, 0, 1, 0, 1, 2, 1, 0,\n",
              "       2, 1, 1, 0, 2, 2, 0, 2, 0, 0, 1, 1, 0, 0, 1, 2, 1, 0, 2, 2, 1, 1,\n",
              "       2, 0, 0, 0, 0, 1, 1, 1, 2, 1, 1, 1, 0, 2, 1, 1, 1, 2, 2, 2, 2, 1,\n",
              "       0, 2, 1, 1, 1, 1, 1, 0, 0, 2, 1, 2, 0, 1, 2, 1, 2, 2, 1, 0, 2, 0,\n",
              "       2, 2, 1, 0, 1, 1, 2, 1, 0, 1, 2, 0, 2, 2, 0, 1, 1, 2, 1, 2, 0, 2,\n",
              "       2, 0, 0, 0, 1, 0, 1, 2, 1, 1, 2, 2, 2, 2, 1, 0, 1, 2, 1, 0, 2, 2,\n",
              "       2, 1, 0, 1, 1, 1, 2, 2, 2, 1, 1, 0, 0, 0, 2, 2, 0, 2, 0, 2, 0, 1,\n",
              "       1, 1, 1, 0, 2, 1, 1, 0, 2, 1, 2, 2, 1, 1, 1, 2, 2, 1, 2, 2, 2, 0,\n",
              "       2, 0, 2, 0, 0, 1, 1, 0, 1, 1, 2, 1, 0, 2, 0, 2, 2, 0, 0, 1, 1, 1,\n",
              "       1, 1, 2, 0, 0, 1, 2, 2, 2, 1, 1, 0, 0, 0, 1, 1, 0, 2, 1, 2, 1, 2,\n",
              "       2, 1, 1, 2, 1, 2, 0, 2, 0, 1, 1, 0, 1, 1, 2, 1, 0, 1, 0, 2, 2, 1,\n",
              "       2, 2, 1, 1, 1, 2, 0, 1, 2, 1, 0, 1, 0, 2, 1, 2, 0, 0, 1, 0, 0, 2,\n",
              "       1, 1, 1, 2, 1, 1, 0, 2, 2, 1, 1, 1, 2, 0, 1, 1, 2, 2])"
            ]
          },
          "metadata": {},
          "execution_count": 46
        }
      ]
    },
    {
      "cell_type": "markdown",
      "source": [
        "# MODEL EVALUATION"
      ],
      "metadata": {
        "id": "S14F1x4ZXYYk"
      }
    },
    {
      "cell_type": "code",
      "source": [
        "# prediksi train set\n",
        "\n",
        "for clf in (logreg_pipe, rf_pipe, svc_pipe, dt_pipe, knn_pipe, voting):\n",
        "    clf.fit(X_train_final, y_train)\n",
        "    y_pred = clf.predict(X_train_final)"
      ],
      "metadata": {
        "id": "bPKRHY-HEnbm"
      },
      "execution_count": 47,
      "outputs": []
    },
    {
      "cell_type": "code",
      "source": [
        "# Menampilkan nilai akurasi train hasi lsoft voting\n",
        "\n",
        "print(clf.__class__.__name__, accuracy_score(y_train, y_pred_train))"
      ],
      "metadata": {
        "colab": {
          "base_uri": "https://localhost:8080/"
        },
        "id": "h8nYvjvSkanU",
        "outputId": "361690f6-86c0-40a7-bb45-2bdb70f3ca14"
      },
      "execution_count": 48,
      "outputs": [
        {
          "output_type": "stream",
          "name": "stdout",
          "text": [
            "VotingClassifier 0.9350282485875706\n"
          ]
        }
      ]
    },
    {
      "cell_type": "code",
      "source": [
        "print(clf.__class__.__name__, classification_report(y_train, y_pred_train))"
      ],
      "metadata": {
        "colab": {
          "base_uri": "https://localhost:8080/"
        },
        "id": "BffEJWwzu-Q5",
        "outputId": "4969a0c1-c980-4358-e2a2-68e65720b1ef"
      },
      "execution_count": 49,
      "outputs": [
        {
          "output_type": "stream",
          "name": "stdout",
          "text": [
            "VotingClassifier               precision    recall  f1-score   support\n",
            "\n",
            "           0       0.95      0.96      0.96       194\n",
            "           1       0.96      0.92      0.94       279\n",
            "           2       0.90      0.93      0.91       235\n",
            "\n",
            "    accuracy                           0.94       708\n",
            "   macro avg       0.94      0.94      0.94       708\n",
            "weighted avg       0.94      0.94      0.94       708\n",
            "\n"
          ]
        }
      ]
    },
    {
      "cell_type": "code",
      "source": [
        "# Prediksi test set\n",
        "\n",
        "for clf in (logreg_pipe, rf_pipe, svc_pipe, dt_pipe, knn_pipe, voting):\n",
        "    clf.fit(X_train_final, y_train)\n",
        "    y_pred = clf.predict(X_test_final)"
      ],
      "metadata": {
        "id": "CaSmRSsAwagJ"
      },
      "execution_count": 50,
      "outputs": []
    },
    {
      "cell_type": "code",
      "source": [
        "# Menampilkan nilai akurasi test hasil soft voting\n",
        "\n",
        "print(clf.__class__.__name__, accuracy_score(y_test, y_pred_test))"
      ],
      "metadata": {
        "colab": {
          "base_uri": "https://localhost:8080/"
        },
        "id": "dSaSblhskDG0",
        "outputId": "235e69bf-0439-465a-ecdf-f9bcee3dcbce"
      },
      "execution_count": 51,
      "outputs": [
        {
          "output_type": "stream",
          "name": "stdout",
          "text": [
            "VotingClassifier 0.8618421052631579\n"
          ]
        }
      ]
    },
    {
      "cell_type": "code",
      "source": [
        "print(clf.__class__.__name__, classification_report(y_test, y_pred))"
      ],
      "metadata": {
        "colab": {
          "base_uri": "https://localhost:8080/"
        },
        "id": "nYHcNjw0yfhz",
        "outputId": "05e7ecdb-887f-4ca5-e2d5-ee2b7dddcec0"
      },
      "execution_count": 52,
      "outputs": [
        {
          "output_type": "stream",
          "name": "stdout",
          "text": [
            "VotingClassifier               precision    recall  f1-score   support\n",
            "\n",
            "           0       0.92      0.91      0.92        78\n",
            "           1       0.87      0.87      0.87       125\n",
            "           2       0.81      0.82      0.82       101\n",
            "\n",
            "    accuracy                           0.87       304\n",
            "   macro avg       0.87      0.87      0.87       304\n",
            "weighted avg       0.87      0.87      0.87       304\n",
            "\n"
          ]
        }
      ]
    },
    {
      "cell_type": "markdown",
      "source": [
        "> Nilai akurasi atau accuracy_score digunakan sebagai metric evaluasi. Dari hasil prediksi yang ditampilkan diatas, akurasi training bernilai 0.9252 atau memiliki akurasi 92.6 % dan pada testing memiliki akurasi 0.8655 atau memiliki akurasi 87 % \n",
        "\n",
        "> Nilai akurasi voting classifier menggunakan soft voting didapatkan dari rataan nilai akurasi yang diprediksi oleh semua model klasifikasi yang digunakan dengan tujuan meningkatkan nilai akurasi pada model yang dibuat. "
      ],
      "metadata": {
        "id": "d0snR2PjC3-5"
      }
    },
    {
      "cell_type": "code",
      "source": [
        "# Tampilkan classification report\n",
        "\n",
        "report = classification_report(y_test, y_pred)\n",
        "print(report)"
      ],
      "metadata": {
        "colab": {
          "base_uri": "https://localhost:8080/"
        },
        "id": "pUIj6EyZw2gx",
        "outputId": "95eaa5c5-788e-445e-f238-21e96e680208"
      },
      "execution_count": 53,
      "outputs": [
        {
          "output_type": "stream",
          "name": "stdout",
          "text": [
            "              precision    recall  f1-score   support\n",
            "\n",
            "           0       0.92      0.91      0.92        78\n",
            "           1       0.87      0.87      0.87       125\n",
            "           2       0.81      0.82      0.82       101\n",
            "\n",
            "    accuracy                           0.87       304\n",
            "   macro avg       0.87      0.87      0.87       304\n",
            "weighted avg       0.87      0.87      0.87       304\n",
            "\n"
          ]
        }
      ]
    },
    {
      "cell_type": "markdown",
      "source": [
        "> Akurasi yang didapat setelah menggunakan soft voting adalah 0.89 atau 89 %"
      ],
      "metadata": {
        "id": "wuhGmmVeCusG"
      }
    },
    {
      "cell_type": "code",
      "source": [
        "#melihat score model\n",
        "print('MAE Error Train Set : ', mean_absolute_error(y_train, y_pred_train))\n",
        "print('MAE Error Test Set  : ', mean_absolute_error(y_test, y_pred_test))\n",
        "\n",
        "print('MSE Error Train Set : ', mean_squared_error(y_train, y_pred_train))\n",
        "print('MSE Error Test Set  : ', mean_squared_error(y_test, y_pred_test))\n",
        "\n",
        "print('R2 Error Train Set : ', r2_score(y_train, y_pred_train))\n",
        "print('R2 Error Test Set  : ', r2_score(y_test, y_pred_test))"
      ],
      "metadata": {
        "colab": {
          "base_uri": "https://localhost:8080/"
        },
        "id": "GOk4QL0JpuL6",
        "outputId": "1e0d4902-f6da-4c85-8c18-2a91c36dd098"
      },
      "execution_count": 54,
      "outputs": [
        {
          "output_type": "stream",
          "name": "stdout",
          "text": [
            "MAE Error Train Set :  0.08192090395480225\n",
            "MAE Error Test Set  :  0.16776315789473684\n",
            "MSE Error Train Set :  0.11581920903954802\n",
            "MSE Error Test Set  :  0.22697368421052633\n",
            "R2 Error Train Set :  0.8077940480250024\n",
            "R2 Error Test Set  :  0.6107409950451872\n"
          ]
        }
      ]
    },
    {
      "cell_type": "markdown",
      "source": [
        "# MODEL SAVING"
      ],
      "metadata": {
        "id": "yxPwbYBFXcxc"
      }
    },
    {
      "cell_type": "code",
      "source": [
        "# saving model\n",
        "with open('voting.pkl', 'wb') as file_1:\n",
        "  pickle.dump(voting, file_1)\n",
        "\n",
        "with open('label.pkl', 'wb') as file_2:\n",
        "  pickle.dump(label, file_2)\n",
        "\n",
        "with open('scaler.pkl', 'wb') as file_3:\n",
        "  pickle.dump(scaler, file_3)"
      ],
      "metadata": {
        "id": "cX8wJVdluTmz"
      },
      "execution_count": 55,
      "outputs": []
    },
    {
      "cell_type": "markdown",
      "source": [
        "# KESIMPULAN"
      ],
      "metadata": {
        "id": "tekqDMY5XgFp"
      }
    },
    {
      "cell_type": "markdown",
      "source": [
        "> Saya menggunakna dat dari UCI Dataset mengenai maternal health risk yang dimiliki oleh Marzi Ahmed dari Daffodil International University, Dhaka, Bangladesh yang didonasikan pada UCI pada tanggal 2020-12-31.\n",
        "\n",
        "> Data terdiri dari 7 fitur data dan 1014 baris data yang berisi informasi mengenai parameter kesehatan ibu hamil beserta lavel risikonya.\n",
        "\n",
        "> Dari datayang ada,  usia yang mengalami kehamilan berada pada retang usia antara 10 sampai 70 tahun dan diketahui pula bahwa pada angka kehamilan terbanyak terdapat pada rentang usia 20 sampai dengan 25 tahun.\n",
        "\n",
        "> Diketahui pula bahwa terdapat 3 level risiko yang ada pada tabel yaitu low rosk, mid risk dan high risk dengan 406 wanita berada pada level low risk, 336 wanita berada pada level mid risk dan 272 wanita berada pada level high risk.\n",
        "\n",
        "> Dari informasi yang telah disampaikan diatas akan dilakukan pengklasifikasian level risiko terhadap ibu hamil dengan menggunakan 5 buat algoritme klasifikasi yaitu Logistic Regression Classifier, Random Forest Classifier, Decision Tree Classifier, Gaussian Naive Bayes Classifier dan juga Suppoer Vector Classifier dan jug menerapkan hyperparameter tuning pada model yang ada.\n",
        "\n",
        "> Metric evaluasi yang digunakan pada kali ini adalah metric evaluasi accuracy_score. \n",
        "\n",
        "> Hasil evaluasi dengan menggunakan accuracy_score pada train set menunjukkan akurasi sebesar 0.92524 dan pada test set sebesar 0.85557. Dari nilai akurasi yang didapat diketahui bahwa model yang ada cenderung overfitting. Menurut saya yang melandasi terjadinya overfitting pada model yang saya buat adalah data yang dimilki terlalu sedikit sehingga mempengaruhi proses pada saat train data dan model terlalu pintar pada saat train namun sebaliknya pada test. \n",
        "\n",
        "> Dari hasil model yang dibanggun didapati terjadi overfitting\n",
        "\n",
        "> Impreovement yaang dapat dilakukan adalah dengan menambah jumlah data yang digunakan, menambahkan model classification baru dan menentukan hyperparameter tuning dengan menggunakan RandomSearch karena pada model yang saya buat ini memiliki kelamanan karena model cenderung overfitting.\n",
        "\n"
      ],
      "metadata": {
        "id": "sse287uiGyj3"
      }
    }
  ]
}